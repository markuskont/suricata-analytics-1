{
 "cells": [
  {
   "cell_type": "markdown",
   "id": "95d35303-785e-4a64-9212-7c8a515c696d",
   "metadata": {},
   "source": [
    "# MISP"
   ]
  },
  {
   "cell_type": "code",
   "execution_count": null,
   "id": "58f2ad68-106e-4e24-89f6-5851a058bba1",
   "metadata": {
    "tags": []
   },
   "outputs": [],
   "source": [
    "%pip install pymisp"
   ]
  },
  {
   "cell_type": "code",
   "execution_count": null,
   "id": "cf57f8be-38a1-4c30-b35b-44bcb0401678",
   "metadata": {
    "tags": []
   },
   "outputs": [],
   "source": [
    "import urllib3\n",
    "urllib3.disable_warnings(urllib3.exceptions.InsecureRequestWarning)"
   ]
  },
  {
   "cell_type": "code",
   "execution_count": null,
   "id": "be849250-d316-4f6b-9357-a1d925513b49",
   "metadata": {
    "tags": []
   },
   "outputs": [],
   "source": [
    "from dotenv import dotenv_values"
   ]
  },
  {
   "cell_type": "code",
   "execution_count": null,
   "id": "5038a723-4b2c-4293-bccb-9362e619f1f9",
   "metadata": {
    "tags": []
   },
   "outputs": [],
   "source": [
    "from surianalytics.connectors import getGitRoot, check_str_bool"
   ]
  },
  {
   "cell_type": "code",
   "execution_count": null,
   "id": "4eef8491-e523-411d-9f7c-0b0625218e60",
   "metadata": {
    "tags": []
   },
   "outputs": [],
   "source": [
    "import os\n",
    "import shutil"
   ]
  },
  {
   "cell_type": "code",
   "execution_count": null,
   "id": "7bdd3515-a7d9-437d-8101-0a2669a713cc",
   "metadata": {
    "tags": []
   },
   "outputs": [],
   "source": [
    "config = dotenv_values(os.path.join(getGitRoot(), \".env\") if shutil.which(\"git\") is not None else os.path.join(os.path.expanduser(\"~\"), \".env\"))"
   ]
  },
  {
   "cell_type": "code",
   "execution_count": null,
   "id": "8da1e0d9-3c44-4ea4-b04d-101ac31e2558",
   "metadata": {
    "tags": []
   },
   "outputs": [],
   "source": [
    "from pymisp import PyMISP"
   ]
  },
  {
   "cell_type": "code",
   "execution_count": null,
   "id": "ef3a9cb8-86d7-411e-9c8a-70f3525652db",
   "metadata": {
    "tags": []
   },
   "outputs": [],
   "source": [
    "misp = PyMISP(config[\"MISP_HOST\"],\n",
    "              config[\"MISP_TOKEN\"],\n",
    "              check_str_bool(config[\"MISP_TLS_VERIFY\"]),\n",
    "              debug=False)"
   ]
  },
  {
   "cell_type": "code",
   "execution_count": null,
   "id": "df36c516-1649-41f1-b38b-5d59c2a45b76",
   "metadata": {},
   "outputs": [],
   "source": [
    "publish_timestamp=\"7d\""
   ]
  },
  {
   "cell_type": "code",
   "execution_count": null,
   "id": "54b9138c-16cf-4df9-bcf3-d119d3992c86",
   "metadata": {
    "tags": []
   },
   "outputs": [],
   "source": [
    "import pandas as pd"
   ]
  },
  {
   "cell_type": "code",
   "execution_count": null,
   "id": "c825766b-120a-48ac-b19d-4c51cb9dae4c",
   "metadata": {
    "tags": []
   },
   "outputs": [],
   "source": [
    "attributes = [\n",
    "    \"url\",\n",
    "    \"domain\",\n",
    "    \"ip-dst\",\n",
    "    \"ip-dst|port\"\n",
    "]"
   ]
  },
  {
   "cell_type": "code",
   "execution_count": null,
   "id": "373c7bfa-50f5-4dd5-a1e9-0315402047d0",
   "metadata": {
    "tags": []
   },
   "outputs": [],
   "source": [
    "DF_ATTR = pd.DataFrame()\n",
    "for attr in attributes:\n",
    "    resp = pd.json_normalize(misp.search(controller='attributes', \n",
    "                                                    publish_timestamp=publish_timestamp, \n",
    "                                                    type_attribute=attr, \n",
    "                                                    category=\"Network activity\", \n",
    "                                                    pythonify=False).get(\"Attribute\"))\n",
    "    DF_ATTR = pd.concat([DF_ATTR, resp], axis=0)\n",
    "    print(attr, len(resp))"
   ]
  },
  {
   "cell_type": "code",
   "execution_count": null,
   "id": "959aa1ad-e16c-4c08-8409-11d725916174",
   "metadata": {
    "tags": []
   },
   "outputs": [],
   "source": [
    "DF_ATTR.head(3)"
   ]
  },
  {
   "cell_type": "code",
   "execution_count": null,
   "id": "d0efadba-a76a-4cac-98bb-bff5193f8f88",
   "metadata": {
    "tags": []
   },
   "outputs": [],
   "source": [
    "DF_ATTR.groupby(\"type\").agg({\"value\": \"nunique\",\n",
    "                             \"event_id\": \"nunique\"})"
   ]
  },
  {
   "cell_type": "code",
   "execution_count": null,
   "id": "f715bd6b-a43c-4777-ad3c-7bcc2521a0dc",
   "metadata": {
    "tags": []
   },
   "outputs": [],
   "source": [
    "DF_ATTR.groupby(\"Event.info\").agg({\"type\": [\"unique\", \"nunique\"],\n",
    "                                   \"value\": [\"unique\", \"nunique\"]})"
   ]
  }
 ],
 "metadata": {
  "kernelspec": {
   "display_name": "Python 3 (ipykernel)",
   "language": "python",
   "name": "python3"
  },
  "language_info": {
   "codemirror_mode": {
    "name": "ipython",
    "version": 3
   },
   "file_extension": ".py",
   "mimetype": "text/x-python",
   "name": "python",
   "nbconvert_exporter": "python",
   "pygments_lexer": "ipython3",
   "version": "3.11.3"
  }
 },
 "nbformat": 4,
 "nbformat_minor": 5
}
