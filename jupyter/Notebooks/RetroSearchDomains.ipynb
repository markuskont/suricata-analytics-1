{
 "cells": [
  {
   "cell_type": "markdown",
   "id": "95d35303-785e-4a64-9212-7c8a515c696d",
   "metadata": {},
   "source": [
    "# MISP"
   ]
  },
  {
   "cell_type": "code",
   "execution_count": 1,
   "id": "58f2ad68-106e-4e24-89f6-5851a058bba1",
   "metadata": {
    "tags": []
   },
   "outputs": [
    {
     "name": "stdout",
     "output_type": "stream",
     "text": [
      "Requirement already satisfied: pymisp in /Users/markuskont/venvs/suricata-analytics/stable/lib/python3.11/site-packages (2.4.172)\n",
      "Requirement already satisfied: deprecated<2.0.0,>=1.2.14 in /Users/markuskont/venvs/suricata-analytics/stable/lib/python3.11/site-packages (from pymisp) (1.2.14)\n",
      "Requirement already satisfied: jsonschema<5.0.0,>=4.17.3 in /Users/markuskont/venvs/suricata-analytics/stable/lib/python3.11/site-packages (from pymisp) (4.17.3)\n",
      "Requirement already satisfied: publicsuffixlist<0.11.0.0,>=0.10.0.20230608 in /Users/markuskont/venvs/suricata-analytics/stable/lib/python3.11/site-packages (from pymisp) (0.10.0.20230617)\n",
      "Requirement already satisfied: python-dateutil<3.0.0,>=2.8.2 in /Users/markuskont/venvs/suricata-analytics/stable/lib/python3.11/site-packages (from pymisp) (2.8.2)\n",
      "Requirement already satisfied: requests<3.0.0,>=2.31.0 in /Users/markuskont/venvs/suricata-analytics/stable/lib/python3.11/site-packages (from pymisp) (2.31.0)\n",
      "Requirement already satisfied: wrapt<2,>=1.10 in /Users/markuskont/venvs/suricata-analytics/stable/lib/python3.11/site-packages (from deprecated<2.0.0,>=1.2.14->pymisp) (1.15.0)\n",
      "Requirement already satisfied: attrs>=17.4.0 in /Users/markuskont/venvs/suricata-analytics/stable/lib/python3.11/site-packages (from jsonschema<5.0.0,>=4.17.3->pymisp) (23.1.0)\n",
      "Requirement already satisfied: pyrsistent!=0.17.0,!=0.17.1,!=0.17.2,>=0.14.0 in /Users/markuskont/venvs/suricata-analytics/stable/lib/python3.11/site-packages (from jsonschema<5.0.0,>=4.17.3->pymisp) (0.19.3)\n",
      "Requirement already satisfied: six>=1.5 in /Users/markuskont/venvs/suricata-analytics/stable/lib/python3.11/site-packages (from python-dateutil<3.0.0,>=2.8.2->pymisp) (1.16.0)\n",
      "Requirement already satisfied: charset-normalizer<4,>=2 in /Users/markuskont/venvs/suricata-analytics/stable/lib/python3.11/site-packages (from requests<3.0.0,>=2.31.0->pymisp) (3.1.0)\n",
      "Requirement already satisfied: idna<4,>=2.5 in /Users/markuskont/venvs/suricata-analytics/stable/lib/python3.11/site-packages (from requests<3.0.0,>=2.31.0->pymisp) (3.4)\n",
      "Requirement already satisfied: urllib3<3,>=1.21.1 in /Users/markuskont/venvs/suricata-analytics/stable/lib/python3.11/site-packages (from requests<3.0.0,>=2.31.0->pymisp) (2.0.3)\n",
      "Requirement already satisfied: certifi>=2017.4.17 in /Users/markuskont/venvs/suricata-analytics/stable/lib/python3.11/site-packages (from requests<3.0.0,>=2.31.0->pymisp) (2023.5.7)\n",
      "\n",
      "\u001b[1m[\u001b[0m\u001b[34;49mnotice\u001b[0m\u001b[1;39;49m]\u001b[0m\u001b[39;49m A new release of pip is available: \u001b[0m\u001b[31;49m23.0.1\u001b[0m\u001b[39;49m -> \u001b[0m\u001b[32;49m23.1.2\u001b[0m\n",
      "\u001b[1m[\u001b[0m\u001b[34;49mnotice\u001b[0m\u001b[1;39;49m]\u001b[0m\u001b[39;49m To update, run: \u001b[0m\u001b[32;49mpip install --upgrade pip\u001b[0m\n",
      "Note: you may need to restart the kernel to use updated packages.\n"
     ]
    }
   ],
   "source": [
    "%pip install pymisp"
   ]
  },
  {
   "cell_type": "code",
   "execution_count": 2,
   "id": "cf57f8be-38a1-4c30-b35b-44bcb0401678",
   "metadata": {
    "tags": []
   },
   "outputs": [],
   "source": [
    "import urllib3\n",
    "urllib3.disable_warnings(urllib3.exceptions.InsecureRequestWarning)"
   ]
  },
  {
   "cell_type": "code",
   "execution_count": 3,
   "id": "be849250-d316-4f6b-9357-a1d925513b49",
   "metadata": {
    "tags": []
   },
   "outputs": [],
   "source": [
    "from dotenv import dotenv_values"
   ]
  },
  {
   "cell_type": "code",
   "execution_count": 4,
   "id": "5038a723-4b2c-4293-bccb-9362e619f1f9",
   "metadata": {
    "tags": []
   },
   "outputs": [],
   "source": [
    "from surianalytics.connectors import getGitRoot, check_str_bool"
   ]
  },
  {
   "cell_type": "code",
   "execution_count": 5,
   "id": "4eef8491-e523-411d-9f7c-0b0625218e60",
   "metadata": {
    "tags": []
   },
   "outputs": [],
   "source": [
    "import os\n",
    "import shutil"
   ]
  },
  {
   "cell_type": "code",
   "execution_count": 6,
   "id": "7bdd3515-a7d9-437d-8101-0a2669a713cc",
   "metadata": {
    "tags": []
   },
   "outputs": [],
   "source": [
    "config = dotenv_values(os.path.join(getGitRoot(), \".env\") if shutil.which(\"git\") is not None else os.path.join(os.path.expanduser(\"~\"), \".env\"))"
   ]
  },
  {
   "cell_type": "code",
   "execution_count": 7,
   "id": "8da1e0d9-3c44-4ea4-b04d-101ac31e2558",
   "metadata": {
    "tags": []
   },
   "outputs": [],
   "source": [
    "from pymisp import PyMISP"
   ]
  },
  {
   "cell_type": "code",
   "execution_count": 8,
   "id": "ef3a9cb8-86d7-411e-9c8a-70f3525652db",
   "metadata": {
    "tags": []
   },
   "outputs": [],
   "source": [
    "misp = PyMISP(config[\"MISP_HOST\"],\n",
    "              config[\"MISP_TOKEN\"],\n",
    "              check_str_bool(config[\"MISP_TLS_VERIFY\"]),\n",
    "              debug=False)"
   ]
  },
  {
   "cell_type": "code",
   "execution_count": 16,
   "id": "df36c516-1649-41f1-b38b-5d59c2a45b76",
   "metadata": {},
   "outputs": [],
   "source": [
    "publish_timestamp=\"1d\""
   ]
  },
  {
   "cell_type": "code",
   "execution_count": 17,
   "id": "54b9138c-16cf-4df9-bcf3-d119d3992c86",
   "metadata": {
    "tags": []
   },
   "outputs": [],
   "source": [
    "import pandas as pd"
   ]
  },
  {
   "cell_type": "code",
   "execution_count": 18,
   "id": "c825766b-120a-48ac-b19d-4c51cb9dae4c",
   "metadata": {
    "tags": []
   },
   "outputs": [],
   "source": [
    "attributes = [\n",
    "    \"url\",\n",
    "    \"domain\",\n",
    "    \"ip-dst\",\n",
    "    \"ip-dst|port\"\n",
    "]"
   ]
  },
  {
   "cell_type": "code",
   "execution_count": 12,
   "id": "373c7bfa-50f5-4dd5-a1e9-0315402047d0",
   "metadata": {
    "tags": []
   },
   "outputs": [
    {
     "name": "stdout",
     "output_type": "stream",
     "text": [
      "url 0\n",
      "domain 0\n",
      "ip-dst 0\n",
      "ip-dst|port 0\n"
     ]
    }
   ],
   "source": [
    "DF_ATTR = pd.DataFrame()\n",
    "for attr in attributes:\n",
    "    resp = pd.json_normalize(misp.search(controller='attributes', \n",
    "                                                    publish_timestamp=publish_timestamp,\n",
    "                                                    timestamp=\"1d\"\n",
    "                                                    type_attribute=attr, \n",
    "                                                    category=\"Network activity\", \n",
    "                                                    pythonify=False).get(\"Attribute\"))\n",
    "    DF_ATTR = pd.concat([DF_ATTR, resp], axis=0)\n",
    "    print(attr, len(resp))"
   ]
  },
  {
   "cell_type": "code",
   "execution_count": 13,
   "id": "c7bb192e-12a4-4006-8a6c-9592039dfe48",
   "metadata": {
    "tags": []
   },
   "outputs": [
    {
     "data": {
      "text/plain": [
       "array([], dtype=int64)"
      ]
     },
     "execution_count": 13,
     "metadata": {},
     "output_type": "execute_result"
    }
   ],
   "source": [
    "DF_ATTR.columns.values"
   ]
  },
  {
   "cell_type": "code",
   "execution_count": 14,
   "id": "959aa1ad-e16c-4c08-8409-11d725916174",
   "metadata": {
    "tags": []
   },
   "outputs": [
    {
     "data": {
      "text/html": [
       "<div>\n",
       "<style scoped>\n",
       "    .dataframe tbody tr th:only-of-type {\n",
       "        vertical-align: middle;\n",
       "    }\n",
       "\n",
       "    .dataframe tbody tr th {\n",
       "        vertical-align: top;\n",
       "    }\n",
       "\n",
       "    .dataframe thead th {\n",
       "        text-align: right;\n",
       "    }\n",
       "</style>\n",
       "<table border=\"1\" class=\"dataframe\">\n",
       "  <thead>\n",
       "    <tr style=\"text-align: right;\">\n",
       "      <th></th>\n",
       "    </tr>\n",
       "  </thead>\n",
       "  <tbody>\n",
       "  </tbody>\n",
       "</table>\n",
       "</div>"
      ],
      "text/plain": [
       "Empty DataFrame\n",
       "Columns: []\n",
       "Index: []"
      ]
     },
     "execution_count": 14,
     "metadata": {},
     "output_type": "execute_result"
    }
   ],
   "source": [
    "DF_ATTR.head(3)"
   ]
  },
  {
   "cell_type": "code",
   "execution_count": 15,
   "id": "d0efadba-a76a-4cac-98bb-bff5193f8f88",
   "metadata": {
    "tags": []
   },
   "outputs": [
    {
     "ename": "KeyError",
     "evalue": "'type'",
     "output_type": "error",
     "traceback": [
      "\u001b[0;31m---------------------------------------------------------------------------\u001b[0m",
      "\u001b[0;31mKeyError\u001b[0m                                  Traceback (most recent call last)",
      "Cell \u001b[0;32mIn[15], line 1\u001b[0m\n\u001b[0;32m----> 1\u001b[0m \u001b[43mDF_ATTR\u001b[49m\u001b[38;5;241;43m.\u001b[39;49m\u001b[43mgroupby\u001b[49m\u001b[43m(\u001b[49m\u001b[38;5;124;43m\"\u001b[39;49m\u001b[38;5;124;43mtype\u001b[39;49m\u001b[38;5;124;43m\"\u001b[39;49m\u001b[43m)\u001b[49m\u001b[38;5;241m.\u001b[39magg({\u001b[38;5;124m\"\u001b[39m\u001b[38;5;124mvalue\u001b[39m\u001b[38;5;124m\"\u001b[39m: \u001b[38;5;124m\"\u001b[39m\u001b[38;5;124mnunique\u001b[39m\u001b[38;5;124m\"\u001b[39m,\n\u001b[1;32m      2\u001b[0m                              \u001b[38;5;124m\"\u001b[39m\u001b[38;5;124mevent_id\u001b[39m\u001b[38;5;124m\"\u001b[39m: \u001b[38;5;124m\"\u001b[39m\u001b[38;5;124mnunique\u001b[39m\u001b[38;5;124m\"\u001b[39m})\n",
      "File \u001b[0;32m~/venvs/suricata-analytics/stable/lib/python3.11/site-packages/pandas/core/frame.py:8252\u001b[0m, in \u001b[0;36mDataFrame.groupby\u001b[0;34m(self, by, axis, level, as_index, sort, group_keys, observed, dropna)\u001b[0m\n\u001b[1;32m   8249\u001b[0m     \u001b[38;5;28;01mraise\u001b[39;00m \u001b[38;5;167;01mTypeError\u001b[39;00m(\u001b[38;5;124m\"\u001b[39m\u001b[38;5;124mYou have to supply one of \u001b[39m\u001b[38;5;124m'\u001b[39m\u001b[38;5;124mby\u001b[39m\u001b[38;5;124m'\u001b[39m\u001b[38;5;124m and \u001b[39m\u001b[38;5;124m'\u001b[39m\u001b[38;5;124mlevel\u001b[39m\u001b[38;5;124m'\u001b[39m\u001b[38;5;124m\"\u001b[39m)\n\u001b[1;32m   8250\u001b[0m axis \u001b[38;5;241m=\u001b[39m \u001b[38;5;28mself\u001b[39m\u001b[38;5;241m.\u001b[39m_get_axis_number(axis)\n\u001b[0;32m-> 8252\u001b[0m \u001b[38;5;28;01mreturn\u001b[39;00m \u001b[43mDataFrameGroupBy\u001b[49m\u001b[43m(\u001b[49m\n\u001b[1;32m   8253\u001b[0m \u001b[43m    \u001b[49m\u001b[43mobj\u001b[49m\u001b[38;5;241;43m=\u001b[39;49m\u001b[38;5;28;43mself\u001b[39;49m\u001b[43m,\u001b[49m\n\u001b[1;32m   8254\u001b[0m \u001b[43m    \u001b[49m\u001b[43mkeys\u001b[49m\u001b[38;5;241;43m=\u001b[39;49m\u001b[43mby\u001b[49m\u001b[43m,\u001b[49m\n\u001b[1;32m   8255\u001b[0m \u001b[43m    \u001b[49m\u001b[43maxis\u001b[49m\u001b[38;5;241;43m=\u001b[39;49m\u001b[43maxis\u001b[49m\u001b[43m,\u001b[49m\n\u001b[1;32m   8256\u001b[0m \u001b[43m    \u001b[49m\u001b[43mlevel\u001b[49m\u001b[38;5;241;43m=\u001b[39;49m\u001b[43mlevel\u001b[49m\u001b[43m,\u001b[49m\n\u001b[1;32m   8257\u001b[0m \u001b[43m    \u001b[49m\u001b[43mas_index\u001b[49m\u001b[38;5;241;43m=\u001b[39;49m\u001b[43mas_index\u001b[49m\u001b[43m,\u001b[49m\n\u001b[1;32m   8258\u001b[0m \u001b[43m    \u001b[49m\u001b[43msort\u001b[49m\u001b[38;5;241;43m=\u001b[39;49m\u001b[43msort\u001b[49m\u001b[43m,\u001b[49m\n\u001b[1;32m   8259\u001b[0m \u001b[43m    \u001b[49m\u001b[43mgroup_keys\u001b[49m\u001b[38;5;241;43m=\u001b[39;49m\u001b[43mgroup_keys\u001b[49m\u001b[43m,\u001b[49m\n\u001b[1;32m   8260\u001b[0m \u001b[43m    \u001b[49m\u001b[43mobserved\u001b[49m\u001b[38;5;241;43m=\u001b[39;49m\u001b[43mobserved\u001b[49m\u001b[43m,\u001b[49m\n\u001b[1;32m   8261\u001b[0m \u001b[43m    \u001b[49m\u001b[43mdropna\u001b[49m\u001b[38;5;241;43m=\u001b[39;49m\u001b[43mdropna\u001b[49m\u001b[43m,\u001b[49m\n\u001b[1;32m   8262\u001b[0m \u001b[43m\u001b[49m\u001b[43m)\u001b[49m\n",
      "File \u001b[0;32m~/venvs/suricata-analytics/stable/lib/python3.11/site-packages/pandas/core/groupby/groupby.py:931\u001b[0m, in \u001b[0;36mGroupBy.__init__\u001b[0;34m(self, obj, keys, axis, level, grouper, exclusions, selection, as_index, sort, group_keys, observed, dropna)\u001b[0m\n\u001b[1;32m    928\u001b[0m \u001b[38;5;28mself\u001b[39m\u001b[38;5;241m.\u001b[39mdropna \u001b[38;5;241m=\u001b[39m dropna\n\u001b[1;32m    930\u001b[0m \u001b[38;5;28;01mif\u001b[39;00m grouper \u001b[38;5;129;01mis\u001b[39;00m \u001b[38;5;28;01mNone\u001b[39;00m:\n\u001b[0;32m--> 931\u001b[0m     grouper, exclusions, obj \u001b[38;5;241m=\u001b[39m \u001b[43mget_grouper\u001b[49m\u001b[43m(\u001b[49m\n\u001b[1;32m    932\u001b[0m \u001b[43m        \u001b[49m\u001b[43mobj\u001b[49m\u001b[43m,\u001b[49m\n\u001b[1;32m    933\u001b[0m \u001b[43m        \u001b[49m\u001b[43mkeys\u001b[49m\u001b[43m,\u001b[49m\n\u001b[1;32m    934\u001b[0m \u001b[43m        \u001b[49m\u001b[43maxis\u001b[49m\u001b[38;5;241;43m=\u001b[39;49m\u001b[43maxis\u001b[49m\u001b[43m,\u001b[49m\n\u001b[1;32m    935\u001b[0m \u001b[43m        \u001b[49m\u001b[43mlevel\u001b[49m\u001b[38;5;241;43m=\u001b[39;49m\u001b[43mlevel\u001b[49m\u001b[43m,\u001b[49m\n\u001b[1;32m    936\u001b[0m \u001b[43m        \u001b[49m\u001b[43msort\u001b[49m\u001b[38;5;241;43m=\u001b[39;49m\u001b[43msort\u001b[49m\u001b[43m,\u001b[49m\n\u001b[1;32m    937\u001b[0m \u001b[43m        \u001b[49m\u001b[43mobserved\u001b[49m\u001b[38;5;241;43m=\u001b[39;49m\u001b[43mobserved\u001b[49m\u001b[43m,\u001b[49m\n\u001b[1;32m    938\u001b[0m \u001b[43m        \u001b[49m\u001b[43mdropna\u001b[49m\u001b[38;5;241;43m=\u001b[39;49m\u001b[38;5;28;43mself\u001b[39;49m\u001b[38;5;241;43m.\u001b[39;49m\u001b[43mdropna\u001b[49m\u001b[43m,\u001b[49m\n\u001b[1;32m    939\u001b[0m \u001b[43m    \u001b[49m\u001b[43m)\u001b[49m\n\u001b[1;32m    941\u001b[0m \u001b[38;5;28mself\u001b[39m\u001b[38;5;241m.\u001b[39mobj \u001b[38;5;241m=\u001b[39m obj\n\u001b[1;32m    942\u001b[0m \u001b[38;5;28mself\u001b[39m\u001b[38;5;241m.\u001b[39maxis \u001b[38;5;241m=\u001b[39m obj\u001b[38;5;241m.\u001b[39m_get_axis_number(axis)\n",
      "File \u001b[0;32m~/venvs/suricata-analytics/stable/lib/python3.11/site-packages/pandas/core/groupby/grouper.py:985\u001b[0m, in \u001b[0;36mget_grouper\u001b[0;34m(obj, key, axis, level, sort, observed, validate, dropna)\u001b[0m\n\u001b[1;32m    983\u001b[0m         in_axis, level, gpr \u001b[38;5;241m=\u001b[39m \u001b[38;5;28;01mFalse\u001b[39;00m, gpr, \u001b[38;5;28;01mNone\u001b[39;00m\n\u001b[1;32m    984\u001b[0m     \u001b[38;5;28;01melse\u001b[39;00m:\n\u001b[0;32m--> 985\u001b[0m         \u001b[38;5;28;01mraise\u001b[39;00m \u001b[38;5;167;01mKeyError\u001b[39;00m(gpr)\n\u001b[1;32m    986\u001b[0m \u001b[38;5;28;01melif\u001b[39;00m \u001b[38;5;28misinstance\u001b[39m(gpr, Grouper) \u001b[38;5;129;01mand\u001b[39;00m gpr\u001b[38;5;241m.\u001b[39mkey \u001b[38;5;129;01mis\u001b[39;00m \u001b[38;5;129;01mnot\u001b[39;00m \u001b[38;5;28;01mNone\u001b[39;00m:\n\u001b[1;32m    987\u001b[0m     \u001b[38;5;66;03m# Add key to exclusions\u001b[39;00m\n\u001b[1;32m    988\u001b[0m     exclusions\u001b[38;5;241m.\u001b[39madd(gpr\u001b[38;5;241m.\u001b[39mkey)\n",
      "\u001b[0;31mKeyError\u001b[0m: 'type'"
     ]
    }
   ],
   "source": [
    "DF_ATTR.groupby(\"type\").agg({\"value\": \"nunique\",\n",
    "                             \"event_id\": \"nunique\"})"
   ]
  },
  {
   "cell_type": "code",
   "execution_count": null,
   "id": "f715bd6b-a43c-4777-ad3c-7bcc2521a0dc",
   "metadata": {
    "tags": []
   },
   "outputs": [],
   "source": [
    "DF_ATTR.groupby(\"Event.info\").agg({\"type\": [\"unique\", \"nunique\"],\n",
    "                                   \"value\": [\"unique\", \"nunique\"]})"
   ]
  },
  {
   "cell_type": "markdown",
   "id": "d395b7b3-a7fb-4e35-9853-ab5db7695432",
   "metadata": {},
   "source": [
    "# Scan for IoC values via scirius"
   ]
  },
  {
   "cell_type": "markdown",
   "id": "cf1e16b9-f3d0-44ef-9a4f-725e7b9a2857",
   "metadata": {},
   "source": [
    "## Domains"
   ]
  },
  {
   "cell_type": "code",
   "execution_count": null,
   "id": "f089f30a-54d7-4f84-a5e5-7dbd0e2a5b23",
   "metadata": {},
   "outputs": [],
   "source": []
  },
  {
   "cell_type": "markdown",
   "id": "8f467aa2-2351-4f5e-8b51-e7f80e4fec10",
   "metadata": {},
   "source": [
    "## IP addrs"
   ]
  },
  {
   "cell_type": "code",
   "execution_count": null,
   "id": "59ce370e-c683-43d5-b0b4-8673dc999da7",
   "metadata": {},
   "outputs": [],
   "source": []
  }
 ],
 "metadata": {
  "kernelspec": {
   "display_name": "Python 3 (ipykernel)",
   "language": "python",
   "name": "python3"
  },
  "language_info": {
   "codemirror_mode": {
    "name": "ipython",
    "version": 3
   },
   "file_extension": ".py",
   "mimetype": "text/x-python",
   "name": "python",
   "nbconvert_exporter": "python",
   "pygments_lexer": "ipython3",
   "version": "3.11.3"
  }
 },
 "nbformat": 4,
 "nbformat_minor": 5
}
