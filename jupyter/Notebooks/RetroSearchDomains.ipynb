{
 "cells": [
  {
   "cell_type": "markdown",
   "id": "95d35303-785e-4a64-9212-7c8a515c696d",
   "metadata": {},
   "source": [
    "# MISP"
   ]
  },
  {
   "cell_type": "code",
   "execution_count": 1,
   "id": "58f2ad68-106e-4e24-89f6-5851a058bba1",
   "metadata": {
    "tags": []
   },
   "outputs": [
    {
     "name": "stdout",
     "output_type": "stream",
     "text": [
      "Requirement already satisfied: pymisp in /Users/markuskont/venvs/suricata-analytics/stable/lib/python3.11/site-packages (2.4.172)\n",
      "Requirement already satisfied: deprecated<2.0.0,>=1.2.14 in /Users/markuskont/venvs/suricata-analytics/stable/lib/python3.11/site-packages (from pymisp) (1.2.14)\n",
      "Requirement already satisfied: jsonschema<5.0.0,>=4.17.3 in /Users/markuskont/venvs/suricata-analytics/stable/lib/python3.11/site-packages (from pymisp) (4.17.3)\n",
      "Requirement already satisfied: publicsuffixlist<0.11.0.0,>=0.10.0.20230608 in /Users/markuskont/venvs/suricata-analytics/stable/lib/python3.11/site-packages (from pymisp) (0.10.0.20230617)\n",
      "Requirement already satisfied: python-dateutil<3.0.0,>=2.8.2 in /Users/markuskont/venvs/suricata-analytics/stable/lib/python3.11/site-packages (from pymisp) (2.8.2)\n",
      "Requirement already satisfied: requests<3.0.0,>=2.31.0 in /Users/markuskont/venvs/suricata-analytics/stable/lib/python3.11/site-packages (from pymisp) (2.31.0)\n",
      "Requirement already satisfied: wrapt<2,>=1.10 in /Users/markuskont/venvs/suricata-analytics/stable/lib/python3.11/site-packages (from deprecated<2.0.0,>=1.2.14->pymisp) (1.15.0)\n",
      "Requirement already satisfied: attrs>=17.4.0 in /Users/markuskont/venvs/suricata-analytics/stable/lib/python3.11/site-packages (from jsonschema<5.0.0,>=4.17.3->pymisp) (23.1.0)\n",
      "Requirement already satisfied: pyrsistent!=0.17.0,!=0.17.1,!=0.17.2,>=0.14.0 in /Users/markuskont/venvs/suricata-analytics/stable/lib/python3.11/site-packages (from jsonschema<5.0.0,>=4.17.3->pymisp) (0.19.3)\n",
      "Requirement already satisfied: six>=1.5 in /Users/markuskont/venvs/suricata-analytics/stable/lib/python3.11/site-packages (from python-dateutil<3.0.0,>=2.8.2->pymisp) (1.16.0)\n",
      "Requirement already satisfied: charset-normalizer<4,>=2 in /Users/markuskont/venvs/suricata-analytics/stable/lib/python3.11/site-packages (from requests<3.0.0,>=2.31.0->pymisp) (3.1.0)\n",
      "Requirement already satisfied: idna<4,>=2.5 in /Users/markuskont/venvs/suricata-analytics/stable/lib/python3.11/site-packages (from requests<3.0.0,>=2.31.0->pymisp) (3.4)\n",
      "Requirement already satisfied: urllib3<3,>=1.21.1 in /Users/markuskont/venvs/suricata-analytics/stable/lib/python3.11/site-packages (from requests<3.0.0,>=2.31.0->pymisp) (2.0.3)\n",
      "Requirement already satisfied: certifi>=2017.4.17 in /Users/markuskont/venvs/suricata-analytics/stable/lib/python3.11/site-packages (from requests<3.0.0,>=2.31.0->pymisp) (2023.5.7)\n",
      "\n",
      "\u001b[1m[\u001b[0m\u001b[34;49mnotice\u001b[0m\u001b[1;39;49m]\u001b[0m\u001b[39;49m A new release of pip is available: \u001b[0m\u001b[31;49m23.0.1\u001b[0m\u001b[39;49m -> \u001b[0m\u001b[32;49m23.1.2\u001b[0m\n",
      "\u001b[1m[\u001b[0m\u001b[34;49mnotice\u001b[0m\u001b[1;39;49m]\u001b[0m\u001b[39;49m To update, run: \u001b[0m\u001b[32;49mpip install --upgrade pip\u001b[0m\n",
      "Note: you may need to restart the kernel to use updated packages.\n"
     ]
    }
   ],
   "source": [
    "%pip install pymisp"
   ]
  },
  {
   "cell_type": "code",
   "execution_count": 2,
   "id": "cf57f8be-38a1-4c30-b35b-44bcb0401678",
   "metadata": {
    "tags": []
   },
   "outputs": [],
   "source": [
    "import urllib3\n",
    "urllib3.disable_warnings(urllib3.exceptions.InsecureRequestWarning)"
   ]
  },
  {
   "cell_type": "code",
   "execution_count": 3,
   "id": "be849250-d316-4f6b-9357-a1d925513b49",
   "metadata": {
    "tags": []
   },
   "outputs": [],
   "source": [
    "from dotenv import dotenv_values"
   ]
  },
  {
   "cell_type": "code",
   "execution_count": 4,
   "id": "5038a723-4b2c-4293-bccb-9362e619f1f9",
   "metadata": {
    "tags": []
   },
   "outputs": [],
   "source": [
    "from surianalytics.connectors import getGitRoot, check_str_bool"
   ]
  },
  {
   "cell_type": "code",
   "execution_count": 5,
   "id": "4eef8491-e523-411d-9f7c-0b0625218e60",
   "metadata": {
    "tags": []
   },
   "outputs": [],
   "source": [
    "import os\n",
    "import shutil"
   ]
  },
  {
   "cell_type": "code",
   "execution_count": 6,
   "id": "7bdd3515-a7d9-437d-8101-0a2669a713cc",
   "metadata": {
    "tags": []
   },
   "outputs": [],
   "source": [
    "config = dotenv_values(os.path.join(getGitRoot(), \".env\") if shutil.which(\"git\") is not None else os.path.join(os.path.expanduser(\"~\"), \".env\"))"
   ]
  },
  {
   "cell_type": "code",
   "execution_count": 7,
   "id": "8da1e0d9-3c44-4ea4-b04d-101ac31e2558",
   "metadata": {
    "tags": []
   },
   "outputs": [],
   "source": [
    "from pymisp import PyMISP"
   ]
  },
  {
   "cell_type": "code",
   "execution_count": 8,
   "id": "ef3a9cb8-86d7-411e-9c8a-70f3525652db",
   "metadata": {
    "tags": []
   },
   "outputs": [],
   "source": [
    "misp = PyMISP(config[\"MISP_HOST\"],\n",
    "              config[\"MISP_TOKEN\"],\n",
    "              check_str_bool(config[\"MISP_TLS_VERIFY\"]),\n",
    "              debug=False)"
   ]
  },
  {
   "cell_type": "code",
   "execution_count": 11,
   "id": "7dda5322-a514-4224-8a73-f575c0610721",
   "metadata": {},
   "outputs": [],
   "source": [
    "result = misp.search(controller='attributes', timestamp=\"1d\", type_attribute=\"domain\", category=\"Network activity\", pythonify=False)"
   ]
  },
  {
   "cell_type": "code",
   "execution_count": null,
   "id": "5049b271-169f-4832-b58a-af1be606b6bb",
   "metadata": {},
   "outputs": [],
   "source": []
  },
  {
   "cell_type": "code",
   "execution_count": 12,
   "id": "54b9138c-16cf-4df9-bcf3-d119d3992c86",
   "metadata": {
    "tags": []
   },
   "outputs": [],
   "source": [
    "import pandas as pd"
   ]
  },
  {
   "cell_type": "code",
   "execution_count": 15,
   "id": "373c7bfa-50f5-4dd5-a1e9-0315402047d0",
   "metadata": {
    "tags": []
   },
   "outputs": [],
   "source": [
    "DF_ATTR = pd.json_normalize(result[\"Attribute\"])"
   ]
  },
  {
   "cell_type": "code",
   "execution_count": 16,
   "id": "c7bb192e-12a4-4006-8a6c-9592039dfe48",
   "metadata": {
    "tags": []
   },
   "outputs": [
    {
     "data": {
      "text/plain": [
       "array(['id', 'event_id', 'object_id', 'object_relation', 'category',\n",
       "       'type', 'to_ids', 'uuid', 'timestamp', 'distribution',\n",
       "       'sharing_group_id', 'comment', 'deleted', 'disable_correlation',\n",
       "       'first_seen', 'last_seen', 'value', 'Tag', 'Event.org_id',\n",
       "       'Event.distribution', 'Event.id', 'Event.info', 'Event.orgc_id',\n",
       "       'Event.uuid'], dtype=object)"
      ]
     },
     "execution_count": 16,
     "metadata": {},
     "output_type": "execute_result"
    }
   ],
   "source": [
    "DF_ATTR.columns.values"
   ]
  },
  {
   "cell_type": "code",
   "execution_count": 17,
   "id": "959aa1ad-e16c-4c08-8409-11d725916174",
   "metadata": {
    "tags": []
   },
   "outputs": [
    {
     "data": {
      "text/html": [
       "<div>\n",
       "<style scoped>\n",
       "    .dataframe tbody tr th:only-of-type {\n",
       "        vertical-align: middle;\n",
       "    }\n",
       "\n",
       "    .dataframe tbody tr th {\n",
       "        vertical-align: top;\n",
       "    }\n",
       "\n",
       "    .dataframe thead th {\n",
       "        text-align: right;\n",
       "    }\n",
       "</style>\n",
       "<table border=\"1\" class=\"dataframe\">\n",
       "  <thead>\n",
       "    <tr style=\"text-align: right;\">\n",
       "      <th></th>\n",
       "      <th>id</th>\n",
       "      <th>event_id</th>\n",
       "      <th>object_id</th>\n",
       "      <th>object_relation</th>\n",
       "      <th>category</th>\n",
       "      <th>type</th>\n",
       "      <th>to_ids</th>\n",
       "      <th>uuid</th>\n",
       "      <th>timestamp</th>\n",
       "      <th>distribution</th>\n",
       "      <th>...</th>\n",
       "      <th>first_seen</th>\n",
       "      <th>last_seen</th>\n",
       "      <th>value</th>\n",
       "      <th>Tag</th>\n",
       "      <th>Event.org_id</th>\n",
       "      <th>Event.distribution</th>\n",
       "      <th>Event.id</th>\n",
       "      <th>Event.info</th>\n",
       "      <th>Event.orgc_id</th>\n",
       "      <th>Event.uuid</th>\n",
       "    </tr>\n",
       "  </thead>\n",
       "  <tbody>\n",
       "    <tr>\n",
       "      <th>0</th>\n",
       "      <td>328367</td>\n",
       "      <td>1646</td>\n",
       "      <td>0</td>\n",
       "      <td>None</td>\n",
       "      <td>Network activity</td>\n",
       "      <td>domain</td>\n",
       "      <td>True</td>\n",
       "      <td>58cc2154-dd22-4576-bc3e-d7d899eb82a3</td>\n",
       "      <td>1687242034</td>\n",
       "      <td>5</td>\n",
       "      <td>...</td>\n",
       "      <td>None</td>\n",
       "      <td>None</td>\n",
       "      <td>awd.byfaithchurch.org</td>\n",
       "      <td>[{'id': '599', 'name': 'kill-chain:Command and...</td>\n",
       "      <td>2</td>\n",
       "      <td>1</td>\n",
       "      <td>1646</td>\n",
       "      <td>STI threat update - IoC edition</td>\n",
       "      <td>2</td>\n",
       "      <td>55887238-6ef4-49cb-93cc-f3575f84102b</td>\n",
       "    </tr>\n",
       "    <tr>\n",
       "      <th>1</th>\n",
       "      <td>328368</td>\n",
       "      <td>1646</td>\n",
       "      <td>0</td>\n",
       "      <td>None</td>\n",
       "      <td>Network activity</td>\n",
       "      <td>domain</td>\n",
       "      <td>True</td>\n",
       "      <td>2a5cab93-9bf7-4383-9407-5981ed580303</td>\n",
       "      <td>1687242034</td>\n",
       "      <td>5</td>\n",
       "      <td>...</td>\n",
       "      <td>None</td>\n",
       "      <td>None</td>\n",
       "      <td>thatanyusstnaptdatagrams.date</td>\n",
       "      <td>[{'id': '599', 'name': 'kill-chain:Command and...</td>\n",
       "      <td>2</td>\n",
       "      <td>1</td>\n",
       "      <td>1646</td>\n",
       "      <td>STI threat update - IoC edition</td>\n",
       "      <td>2</td>\n",
       "      <td>55887238-6ef4-49cb-93cc-f3575f84102b</td>\n",
       "    </tr>\n",
       "    <tr>\n",
       "      <th>2</th>\n",
       "      <td>328369</td>\n",
       "      <td>1646</td>\n",
       "      <td>0</td>\n",
       "      <td>None</td>\n",
       "      <td>Network activity</td>\n",
       "      <td>domain</td>\n",
       "      <td>True</td>\n",
       "      <td>8f8f2bcb-89f0-4d5d-a63e-fa58b29097e8</td>\n",
       "      <td>1687242034</td>\n",
       "      <td>5</td>\n",
       "      <td>...</td>\n",
       "      <td>None</td>\n",
       "      <td>None</td>\n",
       "      <td>strickt.bit</td>\n",
       "      <td>[{'id': '599', 'name': 'kill-chain:Command and...</td>\n",
       "      <td>2</td>\n",
       "      <td>1</td>\n",
       "      <td>1646</td>\n",
       "      <td>STI threat update - IoC edition</td>\n",
       "      <td>2</td>\n",
       "      <td>55887238-6ef4-49cb-93cc-f3575f84102b</td>\n",
       "    </tr>\n",
       "  </tbody>\n",
       "</table>\n",
       "<p>3 rows × 24 columns</p>\n",
       "</div>"
      ],
      "text/plain": [
       "       id event_id object_id object_relation          category    type  \\\n",
       "0  328367     1646         0            None  Network activity  domain   \n",
       "1  328368     1646         0            None  Network activity  domain   \n",
       "2  328369     1646         0            None  Network activity  domain   \n",
       "\n",
       "   to_ids                                  uuid   timestamp distribution  ...  \\\n",
       "0    True  58cc2154-dd22-4576-bc3e-d7d899eb82a3  1687242034            5  ...   \n",
       "1    True  2a5cab93-9bf7-4383-9407-5981ed580303  1687242034            5  ...   \n",
       "2    True  8f8f2bcb-89f0-4d5d-a63e-fa58b29097e8  1687242034            5  ...   \n",
       "\n",
       "  first_seen last_seen                          value  \\\n",
       "0       None      None          awd.byfaithchurch.org   \n",
       "1       None      None  thatanyusstnaptdatagrams.date   \n",
       "2       None      None                    strickt.bit   \n",
       "\n",
       "                                                 Tag Event.org_id  \\\n",
       "0  [{'id': '599', 'name': 'kill-chain:Command and...            2   \n",
       "1  [{'id': '599', 'name': 'kill-chain:Command and...            2   \n",
       "2  [{'id': '599', 'name': 'kill-chain:Command and...            2   \n",
       "\n",
       "  Event.distribution Event.id                       Event.info Event.orgc_id  \\\n",
       "0                  1     1646  STI threat update - IoC edition             2   \n",
       "1                  1     1646  STI threat update - IoC edition             2   \n",
       "2                  1     1646  STI threat update - IoC edition             2   \n",
       "\n",
       "                             Event.uuid  \n",
       "0  55887238-6ef4-49cb-93cc-f3575f84102b  \n",
       "1  55887238-6ef4-49cb-93cc-f3575f84102b  \n",
       "2  55887238-6ef4-49cb-93cc-f3575f84102b  \n",
       "\n",
       "[3 rows x 24 columns]"
      ]
     },
     "execution_count": 17,
     "metadata": {},
     "output_type": "execute_result"
    }
   ],
   "source": [
    "DF_ATTR.head(3)"
   ]
  },
  {
   "cell_type": "code",
   "execution_count": 18,
   "id": "d0efadba-a76a-4cac-98bb-bff5193f8f88",
   "metadata": {
    "tags": []
   },
   "outputs": [
    {
     "data": {
      "text/html": [
       "<div>\n",
       "<style scoped>\n",
       "    .dataframe tbody tr th:only-of-type {\n",
       "        vertical-align: middle;\n",
       "    }\n",
       "\n",
       "    .dataframe tbody tr th {\n",
       "        vertical-align: top;\n",
       "    }\n",
       "\n",
       "    .dataframe thead th {\n",
       "        text-align: right;\n",
       "    }\n",
       "</style>\n",
       "<table border=\"1\" class=\"dataframe\">\n",
       "  <thead>\n",
       "    <tr style=\"text-align: right;\">\n",
       "      <th></th>\n",
       "      <th>value</th>\n",
       "      <th>event_id</th>\n",
       "    </tr>\n",
       "    <tr>\n",
       "      <th>type</th>\n",
       "      <th></th>\n",
       "      <th></th>\n",
       "    </tr>\n",
       "  </thead>\n",
       "  <tbody>\n",
       "    <tr>\n",
       "      <th>domain</th>\n",
       "      <td>5906</td>\n",
       "      <td>8</td>\n",
       "    </tr>\n",
       "  </tbody>\n",
       "</table>\n",
       "</div>"
      ],
      "text/plain": [
       "        value  event_id\n",
       "type                   \n",
       "domain   5906         8"
      ]
     },
     "execution_count": 18,
     "metadata": {},
     "output_type": "execute_result"
    }
   ],
   "source": [
    "DF_ATTR.groupby(\"type\").agg({\"value\": \"nunique\",\n",
    "                             \"event_id\": \"nunique\"})"
   ]
  },
  {
   "cell_type": "code",
   "execution_count": 25,
   "id": "f715bd6b-a43c-4777-ad3c-7bcc2521a0dc",
   "metadata": {
    "tags": []
   },
   "outputs": [
    {
     "data": {
      "text/html": [
       "<div>\n",
       "<style scoped>\n",
       "    .dataframe tbody tr th:only-of-type {\n",
       "        vertical-align: middle;\n",
       "    }\n",
       "\n",
       "    .dataframe tbody tr th {\n",
       "        vertical-align: top;\n",
       "    }\n",
       "\n",
       "    .dataframe thead tr th {\n",
       "        text-align: left;\n",
       "    }\n",
       "\n",
       "    .dataframe thead tr:last-of-type th {\n",
       "        text-align: right;\n",
       "    }\n",
       "</style>\n",
       "<table border=\"1\" class=\"dataframe\">\n",
       "  <thead>\n",
       "    <tr>\n",
       "      <th></th>\n",
       "      <th></th>\n",
       "      <th></th>\n",
       "      <th colspan=\"2\" halign=\"left\">value</th>\n",
       "    </tr>\n",
       "    <tr>\n",
       "      <th></th>\n",
       "      <th></th>\n",
       "      <th></th>\n",
       "      <th>unique</th>\n",
       "      <th>nunique</th>\n",
       "    </tr>\n",
       "    <tr>\n",
       "      <th>Event.info</th>\n",
       "      <th>event_id</th>\n",
       "      <th>type</th>\n",
       "      <th></th>\n",
       "      <th></th>\n",
       "    </tr>\n",
       "  </thead>\n",
       "  <tbody>\n",
       "    <tr>\n",
       "      <th rowspan=\"8\" valign=\"top\">STI threat update - IoC edition</th>\n",
       "      <th>1646</th>\n",
       "      <th>domain</th>\n",
       "      <td>[awd.byfaithchurch.org, thatanyusstnaptdatagra...</td>\n",
       "      <td>998</td>\n",
       "    </tr>\n",
       "    <tr>\n",
       "      <th>1647</th>\n",
       "      <th>domain</th>\n",
       "      <td>[awd.byfaithchurch.org, thatanyusstnaptdatagra...</td>\n",
       "      <td>798</td>\n",
       "    </tr>\n",
       "    <tr>\n",
       "      <th>1648</th>\n",
       "      <th>domain</th>\n",
       "      <td>[awd.byfaithchurch.org, thatanyusstnaptdatagra...</td>\n",
       "      <td>399</td>\n",
       "    </tr>\n",
       "    <tr>\n",
       "      <th>1649</th>\n",
       "      <th>domain</th>\n",
       "      <td>[awd.byfaithchurch.org, thatanyusstnaptdatagra...</td>\n",
       "      <td>5906</td>\n",
       "    </tr>\n",
       "    <tr>\n",
       "      <th>1650</th>\n",
       "      <th>domain</th>\n",
       "      <td>[awd.byfaithchurch.org, thatanyusstnaptdatagra...</td>\n",
       "      <td>5906</td>\n",
       "    </tr>\n",
       "    <tr>\n",
       "      <th>1651</th>\n",
       "      <th>domain</th>\n",
       "      <td>[awd.byfaithchurch.org, thatanyusstnaptdatagra...</td>\n",
       "      <td>5906</td>\n",
       "    </tr>\n",
       "    <tr>\n",
       "      <th>1652</th>\n",
       "      <th>domain</th>\n",
       "      <td>[awd.byfaithchurch.org, thatanyusstnaptdatagra...</td>\n",
       "      <td>5906</td>\n",
       "    </tr>\n",
       "    <tr>\n",
       "      <th>1653</th>\n",
       "      <th>domain</th>\n",
       "      <td>[awd.byfaithchurch.org, thatanyusstnaptdatagra...</td>\n",
       "      <td>5906</td>\n",
       "    </tr>\n",
       "  </tbody>\n",
       "</table>\n",
       "</div>"
      ],
      "text/plain": [
       "                                                                                             value  \\\n",
       "                                                                                            unique   \n",
       "Event.info                      event_id type                                                        \n",
       "STI threat update - IoC edition 1646     domain  [awd.byfaithchurch.org, thatanyusstnaptdatagra...   \n",
       "                                1647     domain  [awd.byfaithchurch.org, thatanyusstnaptdatagra...   \n",
       "                                1648     domain  [awd.byfaithchurch.org, thatanyusstnaptdatagra...   \n",
       "                                1649     domain  [awd.byfaithchurch.org, thatanyusstnaptdatagra...   \n",
       "                                1650     domain  [awd.byfaithchurch.org, thatanyusstnaptdatagra...   \n",
       "                                1651     domain  [awd.byfaithchurch.org, thatanyusstnaptdatagra...   \n",
       "                                1652     domain  [awd.byfaithchurch.org, thatanyusstnaptdatagra...   \n",
       "                                1653     domain  [awd.byfaithchurch.org, thatanyusstnaptdatagra...   \n",
       "\n",
       "                                                         \n",
       "                                                nunique  \n",
       "Event.info                      event_id type            \n",
       "STI threat update - IoC edition 1646     domain     998  \n",
       "                                1647     domain     798  \n",
       "                                1648     domain     399  \n",
       "                                1649     domain    5906  \n",
       "                                1650     domain    5906  \n",
       "                                1651     domain    5906  \n",
       "                                1652     domain    5906  \n",
       "                                1653     domain    5906  "
      ]
     },
     "execution_count": 25,
     "metadata": {},
     "output_type": "execute_result"
    }
   ],
   "source": [
    "DF_ATTR.groupby([\"Event.info\", \"event_id\", \"type\"]).agg({\"value\": [\"unique\", \"nunique\"]})"
   ]
  },
  {
   "cell_type": "markdown",
   "id": "d395b7b3-a7fb-4e35-9853-ab5db7695432",
   "metadata": {},
   "source": [
    "# Scan for IoC values via scirius"
   ]
  },
  {
   "cell_type": "code",
   "execution_count": 26,
   "id": "f089f30a-54d7-4f84-a5e5-7dbd0e2a5b23",
   "metadata": {},
   "outputs": [],
   "source": [
    "from surianalytics.connectors import RESTSciriusConnector"
   ]
  },
  {
   "cell_type": "code",
   "execution_count": 27,
   "id": "8bb1b8ef-5cf6-41b9-8e49-912640179ddb",
   "metadata": {
    "tags": []
   },
   "outputs": [],
   "source": [
    "c = RESTSciriusConnector()"
   ]
  },
  {
   "cell_type": "markdown",
   "id": "f91f05e2-48ba-4845-9f80-53a9cf082c52",
   "metadata": {},
   "source": [
    "Set timeframe to past 30 days."
   ]
  },
  {
   "cell_type": "code",
   "execution_count": 45,
   "id": "3675364f-1835-4a42-b805-33d3f5d7f4e9",
   "metadata": {
    "tags": []
   },
   "outputs": [
    {
     "data": {
      "text/plain": [
       "<surianalytics.connectors.RESTSciriusConnector at 0x16825c5d0>"
      ]
     },
     "execution_count": 45,
     "metadata": {},
     "output_type": "execute_result"
    }
   ],
   "source": [
    "c.set_query_delta(hours=24 * 1)"
   ]
  },
  {
   "cell_type": "code",
   "execution_count": 46,
   "id": "bef06a73-2d7c-4901-95f9-10b18bd623f6",
   "metadata": {
    "tags": []
   },
   "outputs": [],
   "source": [
    "def gen_kql_or_domains(items: pd.Series) -> str:\n",
    "    return \" OR \".join(list(items.unique()))"
   ]
  },
  {
   "cell_type": "code",
   "execution_count": 56,
   "id": "c1bbf7fb-c7bc-418d-ad0d-4c55950ecc70",
   "metadata": {
    "tags": []
   },
   "outputs": [],
   "source": [
    "bulksize = 100"
   ]
  },
  {
   "cell_type": "code",
   "execution_count": 73,
   "id": "6ff6ef83-4ffd-433b-812d-7bce44251829",
   "metadata": {
    "tags": []
   },
   "outputs": [
    {
     "data": {
      "text/plain": [
       "5906"
      ]
     },
     "execution_count": 73,
     "metadata": {},
     "output_type": "execute_result"
    }
   ],
   "source": [
    "L_IOC = list(DF_ATTR.value.unique())\n",
    "len(L_IOC)"
   ]
  },
  {
   "cell_type": "code",
   "execution_count": 74,
   "id": "c3637254-d668-4e4b-8afb-bea999ea59b9",
   "metadata": {
    "tags": []
   },
   "outputs": [],
   "source": [
    "DF_SNI = pd.DataFrame()"
   ]
  },
  {
   "cell_type": "code",
   "execution_count": 75,
   "id": "c8275fc2-6328-48a9-b796-99cefa3b1695",
   "metadata": {
    "tags": []
   },
   "outputs": [
    {
     "name": "stdout",
     "output_type": "stream",
     "text": [
      "0 100\n",
      "0 100\n",
      "0 100\n",
      "0 100\n",
      "0 100\n",
      "0 100\n",
      "0 100\n",
      "0 100\n",
      "0 100\n",
      "0 100\n",
      "0 100\n",
      "0 100\n",
      "0 100\n",
      "0 100\n",
      "0 100\n",
      "0 100\n",
      "1000 100\n",
      "1000 100\n",
      "0 100\n",
      "0 100\n",
      "0 100\n",
      "586 100\n",
      "0 100\n",
      "0 100\n",
      "282 100\n",
      "0 100\n",
      "0 100\n",
      "0 100\n",
      "319 100\n",
      "0 100\n",
      "739 100\n",
      "0 100\n",
      "0 100\n",
      "0 100\n",
      "0 100\n",
      "0 100\n",
      "0 100\n",
      "0 100\n",
      "0 100\n",
      "0 100\n",
      "1000 100\n",
      "0 100\n",
      "0 100\n",
      "0 100\n",
      "0 100\n",
      "0 100\n",
      "0 100\n",
      "0 100\n",
      "0 100\n",
      "0 100\n",
      "455 100\n",
      "0 100\n",
      "0 100\n",
      "0 100\n",
      "0 100\n",
      "0 100\n",
      "0 100\n",
      "0 100\n",
      "0 100\n"
     ]
    }
   ],
   "source": [
    "while True:\n",
    "    batch = L_IOC[:bulksize]\n",
    "    q_sni = \"event_type: tls AND tls.sni.keyword: ({domains})\".format(domains=\" OR \".join(batch))\n",
    "    df = c.get_events_df(qfilter=q_sni)\n",
    "    print(len(df), len(batch))\n",
    "    \n",
    "    L_IOC = L_IOC[bulksize:]\n",
    "    if len(L_IOC) < bulksize:\n",
    "        print(\"done\")\n",
    "        break"
   ]
  },
  {
   "cell_type": "code",
   "execution_count": null,
   "id": "66f1c4da-74dc-4c16-8150-a3e4db48291b",
   "metadata": {},
   "outputs": [],
   "source": []
  }
 ],
 "metadata": {
  "kernelspec": {
   "display_name": "Python 3 (ipykernel)",
   "language": "python",
   "name": "python3"
  },
  "language_info": {
   "codemirror_mode": {
    "name": "ipython",
    "version": 3
   },
   "file_extension": ".py",
   "mimetype": "text/x-python",
   "name": "python",
   "nbconvert_exporter": "python",
   "pygments_lexer": "ipython3",
   "version": "3.11.3"
  }
 },
 "nbformat": 4,
 "nbformat_minor": 5
}
