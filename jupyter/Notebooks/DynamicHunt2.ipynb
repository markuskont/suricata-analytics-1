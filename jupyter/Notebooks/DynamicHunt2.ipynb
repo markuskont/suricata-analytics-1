{
 "cells": [
  {
   "cell_type": "code",
   "execution_count": null,
   "id": "a2f4bb6b-08dc-49c7-bbca-2979d13c67e2",
   "metadata": {},
   "outputs": [],
   "source": [
    "import pandas as pd\n",
    "pd.set_option('display.max_columns', None)\n",
    "pd.set_option('max_colwidth', 150)"
   ]
  },
  {
   "cell_type": "code",
   "execution_count": null,
   "id": "f615ede7-d873-4345-87e2-d7530ee83e03",
   "metadata": {},
   "outputs": [],
   "source": [
    "from surianalytics.widgets.explorer import Explorer"
   ]
  },
  {
   "cell_type": "code",
   "execution_count": null,
   "id": "d9464ffe-9350-4f39-a63e-ec62150e6d7f",
   "metadata": {},
   "outputs": [],
   "source": [
    "eh1 = Explorer()"
   ]
  },
  {
   "cell_type": "code",
   "execution_count": null,
   "id": "65565081-cf7e-440f-a48e-74363c1ca5e8",
   "metadata": {},
   "outputs": [],
   "source": [
    "eh1.display()"
   ]
  }
 ],
 "metadata": {
  "kernelspec": {
   "display_name": "Python 3 (ipykernel)",
   "language": "python",
   "name": "python3"
  },
  "language_info": {
   "codemirror_mode": {
    "name": "ipython",
    "version": 3
   },
   "file_extension": ".py",
   "mimetype": "text/x-python",
   "name": "python",
   "nbconvert_exporter": "python",
   "pygments_lexer": "ipython3",
   "version": "3.10.8"
  }
 },
 "nbformat": 4,
 "nbformat_minor": 5
}
