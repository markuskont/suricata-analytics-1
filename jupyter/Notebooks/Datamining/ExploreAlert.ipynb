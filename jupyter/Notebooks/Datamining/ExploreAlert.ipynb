{
 "cells": [
  {
   "cell_type": "code",
   "execution_count": null,
   "id": "3dba0876-503d-486c-a7ca-2f50d4874423",
   "metadata": {},
   "outputs": [],
   "source": [
    "from ipywidgets import interactive, Output\n",
    "from ipywidgets import Dropdown, IntSlider, SelectMultiple, Combobox, Button\n",
    "from IPython.display import display\n",
    "\n",
    "from surianalytics.connectors import RESTSciriusConnector\n",
    "\n",
    "import pandas as pd\n",
    "import numpy as np"
   ]
  },
  {
   "cell_type": "code",
   "execution_count": null,
   "id": "68f60ae2-3754-419b-a6d0-0c023b489c3f",
   "metadata": {},
   "outputs": [],
   "source": [
    "pd.set_option('display.max_colwidth', None)\n",
    "pd.set_option('display.max_columns', None)\n",
    "pd.set_option('display.max_rows', 1000)\n",
    "pd.set_option('display.width', None)"
   ]
  },
  {
   "cell_type": "code",
   "execution_count": null,
   "id": "ff98d45c-50fb-46e5-b568-f2ad29a64b2d",
   "metadata": {},
   "outputs": [],
   "source": [
    "import urllib3\n",
    "urllib3.disable_warnings(urllib3.exceptions.InsecureRequestWarning)"
   ]
  },
  {
   "cell_type": "code",
   "execution_count": null,
   "id": "1d5a99be-c4cb-40bb-b2bb-bc5d4090ffc4",
   "metadata": {
    "tags": []
   },
   "outputs": [],
   "source": [
    "FILTERS = {\n",
    "    \"default\": \"*\",\n",
    "    \"tls_out_from_asset\": \"event_type:alert AND app_proto:tls AND asset.src_ip:* AND NOT asset.dest_ip:* AND NOT alert.signature:*SIGHTINGS*\"\n",
    "}"
   ]
  },
  {
   "cell_type": "code",
   "execution_count": null,
   "id": "731e351b-2763-4a0a-bcdd-34c18b4428ff",
   "metadata": {},
   "outputs": [],
   "source": [
    "c = RESTSciriusConnector()\n",
    "c.set_page_size(1000)\n",
    "c.set_query_delta(hours=0, minutes=60)\n",
    "DF = c.get_alerts_df(qfilter=FILTERS[\"default\"])"
   ]
  },
  {
   "cell_type": "code",
   "execution_count": null,
   "id": "6e3ffe55-3b2d-4212-9dc0-c77065413cf6",
   "metadata": {},
   "outputs": [],
   "source": [
    "SLIDER_TIME_MINUTES = IntSlider(\n",
    "    value=60,\n",
    "    min=10,\n",
    "    max=180,\n",
    "    step=5,\n",
    "    description='Minutes',\n",
    "    orientation='horizontal',\n",
    "    readout=True,\n",
    ")"
   ]
  },
  {
   "cell_type": "code",
   "execution_count": null,
   "id": "8f739976-8d78-4497-a847-ed8ef53b5567",
   "metadata": {},
   "outputs": [],
   "source": [
    "SELECT_COLUMNS = Combobox(options=sorted(list(DF.dropna(how=\"all\", axis=1).columns.values)))\n",
    "\n",
    "COLUMNS = []\n",
    "OUTPUT_COLS = Output()\n",
    "def handler_add_col(args):\n",
    "    global COLUMNS\n",
    "    COLUMNS.append(SELECT_COLUMNS.value)\n",
    "    OUTPUT_COLS.clear_output()\n",
    "    with OUTPUT_COLS:\n",
    "        display(COLUMNS)\n",
    "\n",
    "BUTTON_ADD_COL = Button(description=\"Add column\")\n",
    "BUTTON_ADD_COL.on_click(handler_add_col)"
   ]
  },
  {
   "cell_type": "code",
   "execution_count": null,
   "id": "3eb3251c-53cb-4002-8de9-ca57a4999669",
   "metadata": {
    "tags": []
   },
   "outputs": [],
   "source": [
    "DROPDOWN_FILTERS = Dropdown(\n",
    "    options=list(FILTERS.keys()),\n",
    "    value=\"default\",\n",
    "    description=\"filter\"\n",
    ")\n",
    "def handler_select_filter(selection):\n",
    "    global DF\n",
    "    c.set_query_delta(minutes=SLIDER_TIME_MINUTES.value)\n",
    "    DF = c.get_alerts_df(qfilter=FILTERS[selection])\n",
    "    SELECT_COLUMNS.options = sorted(list(DF.dropna(how=\"all\", axis=1).columns.values))\n",
    "    \n",
    "interactive(handler_select_filter, selection=DROPDOWN_FILTERS)\n",
    "\n",
    "display(SLIDER_TIME_MINUTES)\n",
    "display(DROPDOWN_FILTERS)\n",
    "display(SELECT_COLUMNS)\n",
    "display(BUTTON_ADD_COL)\n",
    "display(OUTPUT_COLS)"
   ]
  },
  {
   "cell_type": "code",
   "execution_count": null,
   "id": "e73b4dfd-c97c-4ddf-a45a-6ca93d7bca2f",
   "metadata": {},
   "outputs": [],
   "source": [
    "DF[list(COLUMNS)]"
   ]
  },
  {
   "cell_type": "code",
   "execution_count": null,
   "id": "abf32131-1eee-4760-9761-25393775d488",
   "metadata": {},
   "outputs": [],
   "source": [
    "DF"
   ]
  },
  {
   "cell_type": "code",
   "execution_count": null,
   "id": "f87c1f10-438d-45f8-b57e-b38f47f819f5",
   "metadata": {},
   "outputs": [],
   "source": []
  }
 ],
 "metadata": {
  "kernelspec": {
   "display_name": "Python 3 (ipykernel)",
   "language": "python",
   "name": "python3"
  },
  "language_info": {
   "codemirror_mode": {
    "name": "ipython",
    "version": 3
   },
   "file_extension": ".py",
   "mimetype": "text/x-python",
   "name": "python",
   "nbconvert_exporter": "python",
   "pygments_lexer": "ipython3",
   "version": "3.9.10"
  }
 },
 "nbformat": 4,
 "nbformat_minor": 5
}
