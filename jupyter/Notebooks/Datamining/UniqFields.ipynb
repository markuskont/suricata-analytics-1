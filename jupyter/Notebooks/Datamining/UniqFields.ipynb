{
 "cells": [
  {
   "cell_type": "code",
   "execution_count": null,
   "id": "00d59834-5176-4923-8f14-b6823ad9ccfc",
   "metadata": {},
   "outputs": [],
   "source": [
    "from ipywidgets import interact, interactive, fixed, interact_manual\n",
    "from ipywidgets import Output, Dropdown, SelectMultiple, HBox, VBox, Button, IntSlider, FloatRangeSlider, FloatSlider, Text, Textarea, Combobox, HBox, SelectMultiple\n",
    "from IPython.display import display\n",
    "\n",
    "from surianalytics.connectors import RESTSciriusConnector\n",
    "from surianalytics.datamining import min_max_scaling\n",
    "\n",
    "import pandas as pd\n",
    "import numpy as np"
   ]
  },
  {
   "cell_type": "code",
   "execution_count": null,
   "id": "25d9bbfa-96ae-45e0-9af5-a07954a8e31b",
   "metadata": {},
   "outputs": [],
   "source": [
    "import urllib3\n",
    "urllib3.disable_warnings(urllib3.exceptions.InsecureRequestWarning)"
   ]
  },
  {
   "cell_type": "code",
   "execution_count": null,
   "id": "7f97a21d-7ebe-4831-8782-c15ab8461c50",
   "metadata": {},
   "outputs": [],
   "source": [
    "pd.set_option('display.max_colwidth', None)\n",
    "pd.set_option('display.max_columns', None)\n",
    "pd.set_option('display.max_rows', 1000)\n",
    "pd.set_option('display.width', None)"
   ]
  },
  {
   "cell_type": "code",
   "execution_count": null,
   "id": "cce9c364-eb7e-4e5e-9ab4-31040925508a",
   "metadata": {},
   "outputs": [],
   "source": [
    "c = RESTSciriusConnector()\n",
    "c.set_page_size(1000)"
   ]
  },
  {
   "cell_type": "markdown",
   "id": "33744d89-2e80-4912-ab52-07dc782f2e2a",
   "metadata": {},
   "source": [
    "### Timestamp handlers"
   ]
  },
  {
   "cell_type": "code",
   "execution_count": null,
   "id": "7a262f2d-df1e-48e1-b2ec-ad8b34be6826",
   "metadata": {},
   "outputs": [],
   "source": [
    "from datetime import datetime, timedelta"
   ]
  },
  {
   "cell_type": "code",
   "execution_count": null,
   "id": "d6844b80-c8f6-49ce-9c3b-16403d4a5796",
   "metadata": {},
   "outputs": [],
   "source": [
    "TIME_END = datetime.utcnow()\n",
    "TIME_BEGINNING = TIME_END - timedelta(minutes=60)\n",
    "\n",
    "SLIDER_TIME_MINUTES = IntSlider(\n",
    "    value=60,\n",
    "    min=5,\n",
    "    max=600,\n",
    "    step=5,\n",
    "    description='Minutes',\n",
    "    orientation='horizontal',\n",
    "    readout=True,\n",
    ")"
   ]
  },
  {
   "cell_type": "code",
   "execution_count": null,
   "id": "bca40e1a-70eb-4b1e-b8dd-1201332417cb",
   "metadata": {},
   "outputs": [],
   "source": [
    "# TimePicker is not in ipywidgests 7.7\n",
    "# Use text boxes instead for now\n",
    "TEXT_TIME_BEGINNING = Text(\n",
    "    description=\"From: \",\n",
    "    value=TIME_BEGINNING.isoformat(),\n",
    "    continuous_update=True\n",
    ")\n",
    "TEXT_TIME_END = Text(\n",
    "    description=\"To: \",\n",
    "    value=TIME_END.isoformat(),\n",
    "    continuous_update=True\n",
    ")\n",
    "_ = c.set_query_timeframe(from_date=TEXT_TIME_BEGINNING.value, to_date=TEXT_TIME_END.value)"
   ]
  },
  {
   "cell_type": "code",
   "execution_count": null,
   "id": "e00077d0-debb-409d-b02d-c097209331d9",
   "metadata": {},
   "outputs": [],
   "source": [
    "def handler_update_timeframe(args):\n",
    "    c.set_query_timeframe(from_date=TEXT_TIME_BEGINNING.value, to_date=TEXT_TIME_END.value)"
   ]
  },
  {
   "cell_type": "code",
   "execution_count": null,
   "id": "c58464f4-1a8b-48fe-9741-0cc9b1c03601",
   "metadata": {},
   "outputs": [],
   "source": [
    "BUTTON_UPDATE_TIME = Button(description=\"Set time\")\n",
    "BUTTON_UPDATE_TIME.on_click(handler_update_timeframe)"
   ]
  },
  {
   "cell_type": "code",
   "execution_count": null,
   "id": "0e01e88e-a203-4a62-9910-f01323a11f34",
   "metadata": {},
   "outputs": [],
   "source": [
    "def handler_reset_timeframe(args):\n",
    "    time_to = datetime.utcnow()\n",
    "    time_from = time_to - timedelta(minutes=SLIDER_TIME_MINUTES.value)\n",
    "    TEXT_TIME_END.value = time_to.isoformat()\n",
    "    TEXT_TIME_BEGINNING.value = time_from.isoformat()\n",
    "    handler_update_timeframe()"
   ]
  },
  {
   "cell_type": "code",
   "execution_count": null,
   "id": "d1301611-2f39-4009-a6ad-e37fb530837e",
   "metadata": {},
   "outputs": [],
   "source": [
    "BUTTON_RESET_TIME = Button(description=\"Generate time\")\n",
    "BUTTON_RESET_TIME.on_click(handler_reset_timeframe)"
   ]
  },
  {
   "cell_type": "code",
   "execution_count": null,
   "id": "9d5199bd-899c-4d2d-95e7-901da5674d13",
   "metadata": {},
   "outputs": [],
   "source": [
    "BOX_TIME = HBox([SLIDER_TIME_MINUTES, BUTTON_RESET_TIME, TEXT_TIME_BEGINNING, TEXT_TIME_END, BUTTON_UPDATE_TIME])"
   ]
  },
  {
   "cell_type": "code",
   "execution_count": null,
   "id": "2e1994de-f9c0-4b0e-8528-5af7b86166b9",
   "metadata": {},
   "outputs": [],
   "source": [
    "BOX_TIME"
   ]
  },
  {
   "cell_type": "markdown",
   "id": "5a9e632f-1caf-42e7-a261-5ddf71b4ef2f",
   "metadata": {},
   "source": [
    "### Filters documentation\n",
    "\n",
    "#### SMB\n",
    "\n",
    "```\n",
    "event_type: smb\n",
    "```\n",
    "\n",
    "#### Alerts\n",
    "\n",
    "```\n",
    "event_type: alert\n",
    "```\n",
    "\n",
    "#### HTTP\n",
    "\n",
    "Request to HTTP URL with potential malicious suffix. Requires Stamus SSP network enrichment.\n",
    "\n",
    "```\n",
    "event_type: http AND (http.url: *zip OR http.url: *.exe) AND net_info.src_agg: * AND NOT net_info.dest_agg: *\n",
    "```\n",
    "\n",
    "#### IoC\n",
    "\n",
    "Bad IP, either side connection.\n",
    "\n",
    "```\n",
    "dest_ip: 37.157.114.70 OR src_ip: 37.157.114.70\n",
    "```\n",
    "\n",
    "IoC lookup.\n",
    "\n",
    "```\n",
    "(edr: * AND *.ps1) OR http.url: */www/ust.zip\n",
    "```"
   ]
  },
  {
   "cell_type": "markdown",
   "id": "71829764-4748-49b6-b405-a4bb60eb2642",
   "metadata": {},
   "source": [
    "### Unique fields exploration"
   ]
  },
  {
   "cell_type": "code",
   "execution_count": null,
   "id": "ca581ba2-7716-469a-9e46-1bfc3e6eca22",
   "metadata": {},
   "outputs": [],
   "source": [
    "TEXT_QUERY = Textarea(\n",
    "    description='Query filter:',\n",
    "    value=\"*\",\n",
    "    continuous_update=True\n",
    ")\n",
    "TEXT_QUERY"
   ]
  },
  {
   "cell_type": "code",
   "execution_count": null,
   "id": "4f4e0f54-e22c-4e7e-ad3f-209f5cc06fe9",
   "metadata": {},
   "outputs": [],
   "source": [
    "SELECT_FIELD = Combobox(options=c.get_unique_fields(), value=\"flow_id\")\n",
    "SELECT_FIELD"
   ]
  },
  {
   "cell_type": "code",
   "execution_count": null,
   "id": "e58c09a7-93c6-429a-a041-3ebc41f4819a",
   "metadata": {},
   "outputs": [],
   "source": [
    "DF = pd.DataFrame()\n",
    "OUTPUT_UNIQUE = Output()\n",
    "def handler_pull_data(args):\n",
    "    global DF\n",
    "    DF = pd.DataFrame(c.get_eve_unique_values(counts=\"yes\", field=SELECT_FIELD.value, qfilter=TEXT_QUERY.value))\n",
    "    OUTPUT_UNIQUE.clear_output()\n",
    "    with OUTPUT_UNIQUE:\n",
    "        display(DF.sort_values(by=\"key\"))"
   ]
  },
  {
   "cell_type": "code",
   "execution_count": null,
   "id": "229dff6f-901b-48e3-bb2c-01adfadd2705",
   "metadata": {},
   "outputs": [],
   "source": [
    "BUTTON_PULL_UNIQUE = Button(description=\"Pull unique values\")\n",
    "BUTTON_PULL_UNIQUE.on_click(handler_pull_data)"
   ]
  },
  {
   "cell_type": "code",
   "execution_count": null,
   "id": "7b6aee45-7551-4710-b6b4-3c505f7abbb6",
   "metadata": {},
   "outputs": [],
   "source": [
    "def handler_show_simple_uniq(args):\n",
    "    OUTPUT_UNIQUE.clear_output()\n",
    "    with OUTPUT_UNIQUE:\n",
    "        print(\"\\n\".join(sorted(list(DF.key.unique()))))"
   ]
  },
  {
   "cell_type": "code",
   "execution_count": null,
   "id": "05611810-049b-45f2-a327-23c3b6cb4b45",
   "metadata": {},
   "outputs": [],
   "source": [
    "c.last_request"
   ]
  },
  {
   "cell_type": "code",
   "execution_count": null,
   "id": "22b49806-851c-48b2-9038-f19ed7576d17",
   "metadata": {},
   "outputs": [],
   "source": [
    "BUTTON_SHOW_SIMPLE = Button(description=\"Show simple values\")\n",
    "BUTTON_SHOW_SIMPLE.on_click(handler_show_simple_uniq)"
   ]
  },
  {
   "cell_type": "code",
   "execution_count": null,
   "id": "48ec58c1-71db-4f41-b053-0eadc246756d",
   "metadata": {},
   "outputs": [],
   "source": [
    "display(BUTTON_PULL_UNIQUE)\n",
    "display(BUTTON_SHOW_SIMPLE)"
   ]
  },
  {
   "cell_type": "code",
   "execution_count": null,
   "id": "7fc279d1-07af-43e4-ab1e-239dde7bae73",
   "metadata": {},
   "outputs": [],
   "source": [
    "display(OUTPUT_UNIQUE)"
   ]
  },
  {
   "cell_type": "markdown",
   "id": "7bf95f08-f2dd-4086-9a3c-b659f1a6fb23",
   "metadata": {},
   "source": [
    "### Explore events"
   ]
  },
  {
   "cell_type": "code",
   "execution_count": null,
   "id": "3a77e051-4569-43a9-977b-9da9d1e8f480",
   "metadata": {},
   "outputs": [],
   "source": [
    "import copy"
   ]
  },
  {
   "cell_type": "code",
   "execution_count": null,
   "id": "4b9b539f-bd51-4f41-873a-05e45d491a55",
   "metadata": {},
   "outputs": [],
   "source": [
    "DEFAULT_COLUMNS = [\"timestamp\", \"flow_id\", \"event_type\"]\n",
    "COLS = copy.deepcopy(DEFAULT_COLUMNS)"
   ]
  },
  {
   "cell_type": "code",
   "execution_count": null,
   "id": "ee458543-23b6-47d5-b3e2-51aecd67c8a4",
   "metadata": {},
   "outputs": [],
   "source": [
    "OUTPUT_DEBUG = Output()"
   ]
  },
  {
   "cell_type": "code",
   "execution_count": null,
   "id": "5ffe0b09-8b57-47a6-bbfb-7d0fca1d5f17",
   "metadata": {},
   "outputs": [],
   "source": [
    "DF_EVENTS = pd.DataFrame(columns=DEFAULT_COLUMNS)"
   ]
  },
  {
   "cell_type": "code",
   "execution_count": null,
   "id": "a7bea2cb-a252-4c2c-9a85-667e8211f286",
   "metadata": {},
   "outputs": [],
   "source": [
    "SELECT_COLUMNS = Combobox(options=sorted(list(DF_EVENTS.dropna(how=\"all\", axis=1).columns.values)), description=\"Columns\")"
   ]
  },
  {
   "cell_type": "code",
   "execution_count": null,
   "id": "29ecdd41-b046-472d-b3c3-27dd6a980355",
   "metadata": {},
   "outputs": [],
   "source": [
    "SELECT_AGG_COLUMN = Combobox(options=COLS, value=\"flow_id\", description=\"Group by\")"
   ]
  },
  {
   "cell_type": "code",
   "execution_count": null,
   "id": "20fe2a62-7950-4e3e-ac0c-3cb2272f46f8",
   "metadata": {},
   "outputs": [],
   "source": [
    "def handler_add_col(args):\n",
    "    OUTPUT_DEBUG.clear_output()\n",
    "    with OUTPUT_DEBUG:\n",
    "        global COLS\n",
    "        col = SELECT_COLUMNS.value\n",
    "        if col in list(DF_EVENTS.columns.values) and col not in COLS:\n",
    "            COLS.append(col)\n",
    "            SELECT_AGG_COLUMN.options = COLS\n",
    "            print(COLS)\n",
    "        else:\n",
    "            print(\"{} already in selected columns\".format(col))"
   ]
  },
  {
   "cell_type": "code",
   "execution_count": null,
   "id": "68eba04a-4e8e-4af0-9553-f5f9143b86cd",
   "metadata": {},
   "outputs": [],
   "source": [
    "BUTTON_ADD_COL = Button(description=\"Add column\")\n",
    "BUTTON_ADD_COL.on_click(handler_add_col)"
   ]
  },
  {
   "cell_type": "code",
   "execution_count": null,
   "id": "560b4a50-f054-47e3-a0a5-cae3703d5eb8",
   "metadata": {},
   "outputs": [],
   "source": [
    "def handler_clear_col(args):\n",
    "    OUTPUT_DEBUG.clear_output()\n",
    "    with OUTPUT_DEBUG:\n",
    "        global COLS\n",
    "        COLS = DEFAULT_COLUMNS\n",
    "        SELECT_AGG_COLUMN.options = DEFAULT_COLUMNS\n",
    "        print(\"columns are now {}\".format(COLS))"
   ]
  },
  {
   "cell_type": "code",
   "execution_count": null,
   "id": "a249e483-9cef-4216-ad97-4d15ef3aa2d6",
   "metadata": {},
   "outputs": [],
   "source": [
    "BUTTON_CLEAR_COL = Button(description=\"Clear columns\")\n",
    "BUTTON_CLEAR_COL.on_click(handler_clear_col)"
   ]
  },
  {
   "cell_type": "code",
   "execution_count": null,
   "id": "f80ab998-48bc-4883-b65d-be3d79abd268",
   "metadata": {},
   "outputs": [],
   "source": [
    "OUTPUT_EVE = Output()"
   ]
  },
  {
   "cell_type": "code",
   "execution_count": null,
   "id": "a38d883d-ef99-4e4d-ac5c-f9cae9da1c7e",
   "metadata": {},
   "outputs": [],
   "source": [
    "def handler_pull_events(args):\n",
    "    OUTPUT_EVE.clear_output()\n",
    "    with OUTPUT_EVE:\n",
    "        global DF_EVENTS\n",
    "        DF_EVENTS = c.get_events_df(qfilter=TEXT_QUERY.value)\n",
    "        SELECT_COLUMNS.options = list(DF_EVENTS.columns.values)\n",
    "        print(\"downloaded {} rows\".format(len(DF_EVENTS)))"
   ]
  },
  {
   "cell_type": "code",
   "execution_count": null,
   "id": "dca9185e-068a-4b9f-93a0-2996bd8dbbfd",
   "metadata": {},
   "outputs": [],
   "source": [
    "BUTTON_EVE_PULL = Button(description=\"Download EVE\")\n",
    "BUTTON_EVE_PULL.on_click(handler_pull_events)"
   ]
  },
  {
   "cell_type": "code",
   "execution_count": null,
   "id": "a031a197-eb55-436f-9b7a-cdd5392bb773",
   "metadata": {},
   "outputs": [],
   "source": [
    "def handler_aggregate_events(args):\n",
    "    OUTPUT_EVE.clear_output()\n",
    "    with OUTPUT_EVE:\n",
    "        df = (\n",
    "            DF_EVENTS\n",
    "                .sort_values(by=\"timestamp\")\n",
    "                .dropna(axis=1, how=\"all\")\n",
    "                .groupby(SELECT_AGG_COLUMN.value)\n",
    "                .agg({item: [\"min\", \"max\"] if item == \"timestamp\" else [\"unique\"] for item in COLS if item != SELECT_AGG_COLUMN.value})\n",
    "        )\n",
    "        display(df)"
   ]
  },
  {
   "cell_type": "code",
   "execution_count": null,
   "id": "f4f768f8-03a5-4f0b-8dc0-fdf6de2be36a",
   "metadata": {},
   "outputs": [],
   "source": [
    "BUTTON_EVE_AGG = Button(description=\"Aggregate EVE\")\n",
    "BUTTON_EVE_AGG.on_click(handler_aggregate_events)"
   ]
  },
  {
   "cell_type": "code",
   "execution_count": null,
   "id": "e144ff73-6477-4192-8cd0-6e89a55e3e30",
   "metadata": {},
   "outputs": [],
   "source": [
    "def handler_show_events(args):\n",
    "    OUTPUT_EVE.clear_output()\n",
    "    with OUTPUT_EVE:\n",
    "        df = (\n",
    "            DF_EVENTS[COLS]\n",
    "                .sort_values(by=\"timestamp\")\n",
    "                .head(500)\n",
    "                .dropna(axis=1, how=\"all\")\n",
    "        )\n",
    "        display(df)"
   ]
  },
  {
   "cell_type": "code",
   "execution_count": null,
   "id": "acffe74d-cce3-46e4-b14b-4a9541f289c7",
   "metadata": {},
   "outputs": [],
   "source": [
    "BUTTON_EVE_SHOW = Button(description=\"Show EVE\")\n",
    "BUTTON_EVE_SHOW.on_click(handler_show_events)"
   ]
  },
  {
   "cell_type": "code",
   "execution_count": null,
   "id": "1ee792dd-be03-419e-b240-2a123348c70f",
   "metadata": {
    "tags": []
   },
   "outputs": [],
   "source": [
    "BOX_EVE = HBox([BUTTON_EVE_PULL, BUTTON_EVE_SHOW, BUTTON_EVE_AGG])\n",
    "BOX_ADD_COL = HBox([SELECT_COLUMNS, BUTTON_ADD_COL, BUTTON_CLEAR_COL])\n",
    "\n",
    "display(SELECT_AGG_COLUMN)\n",
    "\n",
    "display(BOX_ADD_COL)\n",
    "display(BOX_EVE)"
   ]
  },
  {
   "cell_type": "code",
   "execution_count": null,
   "id": "c41eadc8-a0b7-436d-ade3-37c9267d84f8",
   "metadata": {},
   "outputs": [],
   "source": [
    "display(OUTPUT_DEBUG)\n",
    "display(OUTPUT_EVE)"
   ]
  },
  {
   "cell_type": "code",
   "execution_count": null,
   "id": "0e568446-f2c0-4403-a5bb-ea5c2637f8ab",
   "metadata": {},
   "outputs": [],
   "source": []
  }
 ],
 "metadata": {
  "kernelspec": {
   "display_name": "Python 3 (ipykernel)",
   "language": "python",
   "name": "python3"
  },
  "language_info": {
   "codemirror_mode": {
    "name": "ipython",
    "version": 3
   },
   "file_extension": ".py",
   "mimetype": "text/x-python",
   "name": "python",
   "nbconvert_exporter": "python",
   "pygments_lexer": "ipython3",
   "version": "3.9.10"
  }
 },
 "nbformat": 4,
 "nbformat_minor": 5
}
