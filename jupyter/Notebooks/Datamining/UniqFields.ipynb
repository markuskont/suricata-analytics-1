{
 "cells": [
  {
   "cell_type": "code",
   "execution_count": null,
   "id": "00d59834-5176-4923-8f14-b6823ad9ccfc",
   "metadata": {},
   "outputs": [],
   "source": [
    "from ipywidgets import interact, interactive, fixed, interact_manual\n",
    "from ipywidgets import Output, Dropdown, SelectMultiple, HBox, VBox, Button, IntSlider, FloatRangeSlider, FloatSlider, Text, Combobox\n",
    "from IPython.display import display\n",
    "\n",
    "from surianalytics.connectors import RESTSciriusConnector\n",
    "from surianalytics.datamining import min_max_scaling\n",
    "\n",
    "import pandas as pd\n",
    "import numpy as np"
   ]
  },
  {
   "cell_type": "code",
   "execution_count": null,
   "id": "25d9bbfa-96ae-45e0-9af5-a07954a8e31b",
   "metadata": {},
   "outputs": [],
   "source": [
    "import urllib3\n",
    "urllib3.disable_warnings(urllib3.exceptions.InsecureRequestWarning)"
   ]
  },
  {
   "cell_type": "code",
   "execution_count": null,
   "id": "7f97a21d-7ebe-4831-8782-c15ab8461c50",
   "metadata": {},
   "outputs": [],
   "source": [
    "pd.set_option('display.max_colwidth', None)\n",
    "pd.set_option('display.max_columns', None)\n",
    "pd.set_option('display.max_rows', 1000)\n",
    "pd.set_option('display.width', None)"
   ]
  },
  {
   "cell_type": "code",
   "execution_count": null,
   "id": "2dbdf2d8-e1f1-4b45-8cb0-48ffadeca768",
   "metadata": {
    "tags": []
   },
   "outputs": [],
   "source": [
    "FILTERS = {\n",
    "    \"default\": \"*\",\n",
    "    \"smb\": \"event_type: smb\",\n",
    "}"
   ]
  },
  {
   "cell_type": "code",
   "execution_count": null,
   "id": "cce9c364-eb7e-4e5e-9ab4-31040925508a",
   "metadata": {},
   "outputs": [],
   "source": [
    "c = RESTSciriusConnector()\n",
    "c.set_page_size(1000)\n",
    "c.set_query_delta(hours=0, minutes=60)\n",
    "DF = pd.DataFrame(c.get_eve_unique_values(counts=\"yes\", qfilter=FILTERS[\"default\"]))"
   ]
  },
  {
   "cell_type": "code",
   "execution_count": null,
   "id": "4f4e0f54-e22c-4e7e-ad3f-209f5cc06fe9",
   "metadata": {},
   "outputs": [],
   "source": [
    "SELECT_FIELD = Combobox(\n",
    "    options=c.get_unique_fields()\n",
    ")"
   ]
  },
  {
   "cell_type": "code",
   "execution_count": null,
   "id": "25e41582-91bf-4956-babc-5dc4fb2cf38e",
   "metadata": {},
   "outputs": [],
   "source": [
    "DROPDOWN_FILTERS = Dropdown(\n",
    "    options=list(FILTERS.keys()),\n",
    "    value=\"default\",\n",
    "    description=\"filter\"\n",
    ")\n",
    "def handler_select_filter(selection):\n",
    "    global DF\n",
    "    DF = pd.DataFrame(c.get_eve_unique_values(counts=\"yes\", field=SELECT_FIELD.value, qfilter=FILTERS[selection]))\n",
    "    \n",
    "_ = interactive(handler_select_filter, selection=DROPDOWN_FILTERS)"
   ]
  },
  {
   "cell_type": "code",
   "execution_count": null,
   "id": "ddbfb5da-cec3-4da2-9b81-cdac8ee9ae82",
   "metadata": {},
   "outputs": [],
   "source": [
    "display(DROPDOWN_FILTERS)\n",
    "display(SELECT_FIELD)"
   ]
  },
  {
   "cell_type": "code",
   "execution_count": null,
   "id": "ae943981-ab93-4f9d-b3ca-0f9d4251821e",
   "metadata": {},
   "outputs": [],
   "source": [
    "DF"
   ]
  },
  {
   "cell_type": "code",
   "execution_count": null,
   "id": "e15fa803-877d-4d60-bcb0-4bb67e4c774a",
   "metadata": {},
   "outputs": [],
   "source": []
  }
 ],
 "metadata": {
  "kernelspec": {
   "display_name": "Python 3 (ipykernel)",
   "language": "python",
   "name": "python3"
  },
  "language_info": {
   "codemirror_mode": {
    "name": "ipython",
    "version": 3
   },
   "file_extension": ".py",
   "mimetype": "text/x-python",
   "name": "python",
   "nbconvert_exporter": "python",
   "pygments_lexer": "ipython3",
   "version": "3.9.10"
  }
 },
 "nbformat": 4,
 "nbformat_minor": 5
}
