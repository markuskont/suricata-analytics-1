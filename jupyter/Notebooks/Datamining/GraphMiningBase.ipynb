{
 "cells": [
  {
   "cell_type": "markdown",
   "id": "ee5c5bac-e57d-45f4-a9dd-a7d9382c556b",
   "metadata": {},
   "source": [
    "# EVE Basic Graph Mining"
   ]
  },
  {
   "cell_type": "markdown",
   "id": "f6a60203-f47f-403f-84da-11f66aef059a",
   "metadata": {},
   "source": [
    "## Imports"
   ]
  },
  {
   "cell_type": "code",
   "execution_count": null,
   "id": "4a5f35ac-ea01-4e69-acf0-4d413cb0ddee",
   "metadata": {},
   "outputs": [],
   "source": [
    "import pandas as pd\n",
    "import numpy as np\n",
    "import networkx as nx"
   ]
  },
  {
   "cell_type": "code",
   "execution_count": null,
   "id": "10265c69-7900-4987-82c0-dc10072339e3",
   "metadata": {},
   "outputs": [],
   "source": [
    "import hvplot.networkx as hvnx\n",
    "import holoviews as hv\n",
    "from holoviews import opts"
   ]
  },
  {
   "cell_type": "code",
   "execution_count": null,
   "id": "dfd4da55-8270-4fc5-85b5-1216bfd537ce",
   "metadata": {},
   "outputs": [],
   "source": [
    "from ipywidgets import interact, interactive, fixed, interact_manual\n",
    "from ipywidgets import Output, Dropdown, SelectMultiple, HBox, VBox, Button, IntSlider, FloatRangeSlider, FloatSlider, Text, Combobox\n",
    "from IPython.display import display"
   ]
  },
  {
   "cell_type": "code",
   "execution_count": null,
   "id": "b91ba718-90fb-4f74-8eac-be6683d664de",
   "metadata": {
    "tags": []
   },
   "outputs": [],
   "source": [
    "from surianalytics.connectors import RESTSciriusConnector\n",
    "from surianalytics.datamining import min_max_scaling"
   ]
  },
  {
   "cell_type": "markdown",
   "id": "2d45e623-de38-4155-b449-9cf2c6377f72",
   "metadata": {},
   "source": [
    "## Data connection"
   ]
  },
  {
   "cell_type": "code",
   "execution_count": null,
   "id": "d4df2723-bc66-47d2-95ba-1d38e28048e2",
   "metadata": {},
   "outputs": [],
   "source": [
    "c = RESTSciriusConnector()"
   ]
  },
  {
   "cell_type": "markdown",
   "id": "984606ea-b9a8-4a5a-ae34-24c5edf2f813",
   "metadata": {},
   "source": [
    "## Global variables"
   ]
  },
  {
   "cell_type": "code",
   "execution_count": null,
   "id": "42012f29-4292-444d-9bf9-f33f4323031a",
   "metadata": {},
   "outputs": [],
   "source": [
    "if \"FIELDS\" not in globals():\n",
    "    FIELDS = []\n",
    "if \"GRAPH\" not in globals():\n",
    "    GRAPH = None\n",
    "    \n",
    "GRAPH_WIDTH = 1000\n",
    "GRAPH_HEIGHT = 1000"
   ]
  },
  {
   "cell_type": "markdown",
   "id": "0b98b2ad-3bf9-4f0d-9109-92252cc28fcb",
   "metadata": {},
   "source": [
    "## Define widgets"
   ]
  },
  {
   "cell_type": "code",
   "execution_count": null,
   "id": "4d868ec6-fbf9-442b-9d76-2c21858e3700",
   "metadata": {},
   "outputs": [],
   "source": [
    "DROPDOWN_EVENT_TYPES = Dropdown(\n",
    "    options=[\"all\"],\n",
    "    value=\"all\",\n",
    "    description=\"Event type\"\n",
    ")\n",
    "DROPDOWN_FIELDS_SRC = Combobox(\n",
    "    options=FIELDS,\n",
    "    value=None\n",
    ")\n",
    "DROPDOWN_FIELDS_DEST = Combobox(\n",
    "    options=FIELDS,\n",
    "    value=None\n",
    ")\n",
    "SLIDER_SIZE_COL = IntSlider(\n",
    "    value=500,\n",
    "    min=100,\n",
    "    max=5000,\n",
    "    description='Aggregation max size',\n",
    "    orientation='horizontal',\n",
    "    readout=True,\n",
    ")\n",
    "SLIDER_THRESH_DEGREE = FloatRangeSlider(\n",
    "    value=[0, 1],\n",
    "    min=0,\n",
    "    max=1,\n",
    "    step=0.001,\n",
    "    description=\"Degree: \",\n",
    "    continuous_update=False,\n",
    "    orientation='horizontal',\n",
    "    readout=True,\n",
    "    readout_format='.2f',\n",
    ")"
   ]
  },
  {
   "cell_type": "code",
   "execution_count": null,
   "id": "dab31d82-05ae-43fb-aa5d-6b40bfc26917",
   "metadata": {},
   "outputs": [],
   "source": [
    "TEXT_QUERY = Text(\n",
    "    description='Query filter:',\n",
    "    value=\"*\",\n",
    "    continuous_update=True\n",
    ")"
   ]
  },
  {
   "cell_type": "markdown",
   "id": "d99a09ef-1113-4e55-bed9-8277cb9f593b",
   "metadata": {
    "tags": []
   },
   "source": [
    "## Widget handlers"
   ]
  },
  {
   "cell_type": "markdown",
   "id": "2a18d2ab-722e-4f69-b848-69f5219c8046",
   "metadata": {},
   "source": [
    "### Timestamp handlers"
   ]
  },
  {
   "cell_type": "code",
   "execution_count": null,
   "id": "480e1057-1117-4449-a7b5-01aa8858772a",
   "metadata": {},
   "outputs": [],
   "source": [
    "from datetime import datetime, timedelta"
   ]
  },
  {
   "cell_type": "code",
   "execution_count": null,
   "id": "92cd6298-fead-4fe4-889c-a14bbb8d6b24",
   "metadata": {},
   "outputs": [],
   "source": [
    "TIME_END = datetime.utcnow()\n",
    "TIME_BEGINNING = TIME_END - timedelta(minutes=60)\n",
    "\n",
    "SLIDER_TIME_MINUTES = IntSlider(\n",
    "    value=60,\n",
    "    min=5,\n",
    "    max=600,\n",
    "    step=5,\n",
    "    description='Minutes',\n",
    "    orientation='horizontal',\n",
    "    readout=True,\n",
    ")"
   ]
  },
  {
   "cell_type": "code",
   "execution_count": null,
   "id": "8fba2d79-8898-4645-a0e1-b0101cbc2097",
   "metadata": {},
   "outputs": [],
   "source": [
    "# TimePicker is not in ipywidgests 7.7\n",
    "# Use text boxes instead for now\n",
    "TEXT_TIME_BEGINNING = Text(\n",
    "    description=\"From: \",\n",
    "    value=TIME_BEGINNING.isoformat(),\n",
    "    continuous_update=True\n",
    ")\n",
    "TEXT_TIME_END = Text(\n",
    "    description=\"To: \",\n",
    "    value=TIME_END.isoformat(),\n",
    "    continuous_update=True\n",
    ")\n",
    "_ = c.set_query_timeframe(from_date=TEXT_TIME_BEGINNING.value, to_date=TEXT_TIME_END.value)"
   ]
  },
  {
   "cell_type": "code",
   "execution_count": null,
   "id": "bee0dc43-c8fb-4160-82a2-c97e510e8f57",
   "metadata": {},
   "outputs": [],
   "source": [
    "def handler_update_timeframe(args):\n",
    "    c.set_query_timeframe(from_date=TEXT_TIME_BEGINNING.value, to_date=TEXT_TIME_END.value)"
   ]
  },
  {
   "cell_type": "code",
   "execution_count": null,
   "id": "63864681-f29d-4f7d-a693-1e9602ac0ad5",
   "metadata": {},
   "outputs": [],
   "source": [
    "BUTTON_UPDATE_TIME = Button(description=\"Set time\")\n",
    "BUTTON_UPDATE_TIME.on_click(handler_update_timeframe)"
   ]
  },
  {
   "cell_type": "code",
   "execution_count": null,
   "id": "dae66e5d-10df-43a6-bd9c-432b4b324e14",
   "metadata": {},
   "outputs": [],
   "source": [
    "def handler_reset_timeframe(args):\n",
    "    time_to = datetime.utcnow()\n",
    "    time_from = time_to - timedelta(minutes=SLIDER_TIME_MINUTES.value)\n",
    "    TEXT_TIME_END.value = time_to.isoformat()\n",
    "    TEXT_TIME_BEGINNING.value = time_from.isoformat()\n",
    "    handler_update_timeframe()"
   ]
  },
  {
   "cell_type": "code",
   "execution_count": null,
   "id": "0392850e-688a-488f-bc91-b92fbdd20a83",
   "metadata": {},
   "outputs": [],
   "source": [
    "BUTTON_RESET_TIME = Button(description=\"Generate time\")\n",
    "BUTTON_RESET_TIME.on_click(handler_reset_timeframe)"
   ]
  },
  {
   "cell_type": "code",
   "execution_count": null,
   "id": "24fc72d7-bad8-4ead-a84a-c7e2edb9ebce",
   "metadata": {},
   "outputs": [],
   "source": [
    "BOX_TIME = HBox([SLIDER_TIME_MINUTES, BUTTON_RESET_TIME, TEXT_TIME_BEGINNING, TEXT_TIME_END, BUTTON_UPDATE_TIME])"
   ]
  },
  {
   "cell_type": "markdown",
   "id": "5e376d03-7362-4229-ad2f-27e6de2133ff",
   "metadata": {},
   "source": [
    "### Build unique event types"
   ]
  },
  {
   "cell_type": "code",
   "execution_count": null,
   "id": "e17d854e-9f0f-4844-963a-f846f745d828",
   "metadata": {
    "tags": []
   },
   "outputs": [],
   "source": [
    "def handler_update_event_types(args):\n",
    "    DROPDOWN_EVENT_TYPES.options = c.get_event_types()"
   ]
  },
  {
   "cell_type": "code",
   "execution_count": null,
   "id": "30b691f8-8662-46f5-90b3-61a9c6762ba2",
   "metadata": {},
   "outputs": [],
   "source": [
    "BUTTON_REFRESH_EVENT_TYPES = Button(description=\"Refresh event types\")\n",
    "BUTTON_REFRESH_EVENT_TYPES.on_click(handler_update_event_types)"
   ]
  },
  {
   "cell_type": "markdown",
   "id": "dcc59cbe-5e3b-4450-8816-79a7017c77f6",
   "metadata": {},
   "source": [
    "### Pull unique fields"
   ]
  },
  {
   "cell_type": "code",
   "execution_count": null,
   "id": "8c7dc5bb-54ff-4035-b912-bf1ed9d3f5f7",
   "metadata": {},
   "outputs": [],
   "source": [
    "FIELDS_FILTER = [\"@timestamp\", \"timestamp\"]\n",
    "def handler_build_fields(event_type=\"all\"):\n",
    "    fields = c.get_unique_fields(event_type=DROPDOWN_EVENT_TYPES.value)\n",
    "    if len(fields) == 0:\n",
    "        print(\"no fields from\", event_type)\n",
    "        \n",
    "    global FIELDS\n",
    "    FIELDS = [f for f in fields if f not in FIELDS_FILTER]\n",
    "    DROPDOWN_FIELDS_SRC.options = FIELDS\n",
    "    DROPDOWN_FIELDS_DEST.options = FIELDS\n",
    "    \n",
    "_ = interactive(handler_build_fields, event_type=DROPDOWN_EVENT_TYPES)"
   ]
  },
  {
   "cell_type": "markdown",
   "id": "6adc510d-8fa4-4cba-ac6f-bea2110bfb56",
   "metadata": {},
   "source": [
    "### Pull graph data"
   ]
  },
  {
   "cell_type": "code",
   "execution_count": null,
   "id": "ed588a04-e307-42b2-bc95-e8ee6b6604e0",
   "metadata": {},
   "outputs": [],
   "source": [
    "OUTPUT_GRAPH_DL = Output()\n",
    "def handler_pull_graph_data(args):\n",
    "    OUTPUT_GRAPH_DL.clear_output()\n",
    "    with OUTPUT_GRAPH_DL:\n",
    "        display(print(\"Calling scirius\"))\n",
    "        global GRAPH\n",
    "        GRAPH = c.get_eve_fields_graph_nx(        \n",
    "            col_src=DROPDOWN_FIELDS_SRC.value,\n",
    "            col_dest=DROPDOWN_FIELDS_DEST.value,\n",
    "            size_src=SLIDER_SIZE_COL.value,\n",
    "            size_dest=SLIDER_SIZE_COL.value,\n",
    "            event_type=DROPDOWN_EVENT_TYPES.value,\n",
    "            qfilter=TEXT_QUERY.value\n",
    "        )\n",
    "        display(\"call done, got {} nodes and {} edges\".format(len(GRAPH.nodes()), len(GRAPH.edges())))"
   ]
  },
  {
   "cell_type": "code",
   "execution_count": null,
   "id": "277b012e-2259-4a37-8411-4c0c436ddf3f",
   "metadata": {},
   "outputs": [],
   "source": [
    "BUTTON_LOAD_DATA = Button(description=\"Pull data\")\n",
    "BUTTON_LOAD_DATA.on_click(handler_pull_graph_data)"
   ]
  },
  {
   "cell_type": "markdown",
   "id": "13ac93fe-47f6-4f70-8d02-b0894b290fa6",
   "metadata": {},
   "source": [
    "### Draw network graph"
   ]
  },
  {
   "cell_type": "code",
   "execution_count": null,
   "id": "0a29e2e8-6b74-4f15-a22a-657f5976cd97",
   "metadata": {},
   "outputs": [],
   "source": [
    "OUTPUT_GRAPH = Output()\n",
    "def handler_draw_graph(args):\n",
    "    OUTPUT_GRAPH.clear_output()\n",
    "    if len(GRAPH.edges) == 0:\n",
    "        display(\"Missing graph data, please run query first\")\n",
    "        return\n",
    "    \n",
    "    # use local graph object\n",
    "    g = GRAPH.copy()\n",
    "    \n",
    "    # drop empty nodes (and connected edges) \n",
    "    # means missing eve field, no connection can be made\n",
    "    if \"\" in list(g.nodes()):\n",
    "        g.remove_node(\"\")\n",
    "    \n",
    "    doc_counts = [attr[\"doc_count\"] for (src, dst, attr) in g.edges(data=True)]\n",
    "    doc_counts = np.log2(doc_counts)\n",
    "    doc_counts = min_max_scaling(pd.Series(doc_counts))\n",
    "\n",
    "    # add scaled doc counts to edges to serve as weights\n",
    "    for i, (src, dst, attr) in enumerate(g.edges(data=True)):\n",
    "        attr[\"scaled_doc_count\"] = doc_counts[i]\n",
    "        \n",
    "    # discover node degree and scale the values\n",
    "    degree = [g.degree(n) for n in g.nodes()]\n",
    "    degree = min_max_scaling(pd.Series(degree))\n",
    "    \n",
    "    to_remove = []\n",
    "    # drop nodes that do not match filtering criteria\n",
    "    for i, n in enumerate(g.nodes()):\n",
    "        if degree[i] > SLIDER_THRESH_DEGREE.value[1] or degree[i] < SLIDER_THRESH_DEGREE.value[0]:\n",
    "            to_remove.append(n)\n",
    "    \n",
    "    for n in to_remove:\n",
    "        g.remove_node(n)\n",
    "        \n",
    "    # calculate total number of docs for edges\n",
    "    doc_count_total_edge = np.sum([attr[\"doc_count\"] for (src, dst, attr) in g.edges(data=True)])\n",
    "\n",
    "    # locate source nodes\n",
    "    n_src = [i for i, (u, a) in enumerate(g.nodes(data=True)) if a[\"kind\"] == \"source\"]\n",
    "    # locate destination nodes\n",
    "    n_dst = [i for i, (u, a) in enumerate(g.nodes(data=True)) if a[\"kind\"] == \"destination\"]\n",
    "\n",
    "    # generate layout\n",
    "    pos = nx.layout.spring_layout(g)\n",
    "\n",
    "    # generate nodes per kind\n",
    "    nodes_src = hvnx.draw_networkx_nodes(g, pos, nodelist=n_src, node_color='#A0CBE2').opts(width=GRAPH_WIDTH, height=GRAPH_HEIGHT)\n",
    "    nodes_dst = hvnx.draw_networkx_nodes(g, pos, nodelist=n_dst, node_color=\"Orange\").opts(width=GRAPH_WIDTH, height=GRAPH_HEIGHT)\n",
    "\n",
    "    # use kwargs to make parameter handling easier\n",
    "    edge_params = {\n",
    "        \"alpha\": 1,\n",
    "        \"edge_color\": 'scaled_doc_count', \n",
    "        \"edge_cmap\": 'viridis',\n",
    "        \"edge_width\": hv.dim('scaled_doc_count')*5\n",
    "    }\n",
    "    \n",
    "    # generate edges\n",
    "    edges = hvnx.draw_networkx_edges(g, pos, **edge_params).opts(width=GRAPH_WIDTH, height=GRAPH_HEIGHT)\n",
    "\n",
    "    # overlay nodes and edges\n",
    "    res = edges * nodes_src * nodes_dst\n",
    "    \n",
    "    component_sizes = [len(c) for c in sorted(nx.connected_components(g), key=len, reverse=True) if len(c) > 1]\n",
    "    \n",
    "    with OUTPUT_GRAPH:\n",
    "        display(print(\"Number of documents for edges: {}\".format(doc_count_total_edge)))\n",
    "        display(print(\"Number of clusters: {}\".format(len(component_sizes))))\n",
    "        display(res)"
   ]
  },
  {
   "cell_type": "code",
   "execution_count": null,
   "id": "76182064-3a47-4e16-9490-f85aaadbb3a2",
   "metadata": {},
   "outputs": [],
   "source": [
    "BUTTON_DRAW_GRAPH = Button(description=\"Draw graph\")\n",
    "BUTTON_DRAW_GRAPH.on_click(handler_draw_graph)"
   ]
  },
  {
   "cell_type": "markdown",
   "id": "9ca1dd00-981c-47bb-842f-1a6141611319",
   "metadata": {},
   "source": [
    "## Interactions"
   ]
  },
  {
   "cell_type": "markdown",
   "id": "dd26dc28-407f-4a66-8073-6f91fa9362c0",
   "metadata": {},
   "source": [
    "### Boxes"
   ]
  },
  {
   "cell_type": "code",
   "execution_count": null,
   "id": "5bb22da8-6dca-42c7-b4c5-615b05f8af5e",
   "metadata": {},
   "outputs": [],
   "source": [
    "BOX_COL_SRC = HBox([DROPDOWN_FIELDS_SRC, SLIDER_THRESH_DEGREE])\n",
    "BOX_COL_DEST = HBox([DROPDOWN_FIELDS_DEST])\n",
    "\n",
    "BOX_COL_CONFIG = VBox([BOX_COL_SRC, BOX_COL_DEST])\n",
    "BOX_BUTTONS = HBox([BUTTON_REFRESH_EVENT_TYPES, BUTTON_LOAD_DATA, BUTTON_DRAW_GRAPH])\n",
    "\n",
    "BOX_TIME_INPUT = VBox([TEXT_TIME_BEGINNING, TEXT_TIME_END])\n",
    "BOX_TIME_BTNS = VBox([BUTTON_UPDATE_TIME, BUTTON_RESET_TIME])\n",
    "\n",
    "BOX_TIME = HBox([BOX_TIME_INPUT, BOX_TIME_BTNS, SLIDER_TIME_MINUTES])\n",
    "\n",
    "BOX_FINAL = VBox([BOX_TIME, TEXT_QUERY, DROPDOWN_EVENT_TYPES, BOX_COL_CONFIG, BOX_BUTTONS])"
   ]
  },
  {
   "cell_type": "markdown",
   "id": "7dae715c-bd64-4882-bdbb-3c4afe96a488",
   "metadata": {},
   "source": [
    "### Display area"
   ]
  },
  {
   "cell_type": "code",
   "execution_count": null,
   "id": "78a7bfbd-7523-453e-9461-48acffce812c",
   "metadata": {},
   "outputs": [],
   "source": [
    "display(BOX_FINAL)\n",
    "display(OUTPUT_GRAPH_DL)\n",
    "display(OUTPUT_GRAPH)"
   ]
  }
 ],
 "metadata": {
  "kernelspec": {
   "display_name": "Python 3 (ipykernel)",
   "language": "python",
   "name": "python3"
  },
  "language_info": {
   "codemirror_mode": {
    "name": "ipython",
    "version": 3
   },
   "file_extension": ".py",
   "mimetype": "text/x-python",
   "name": "python",
   "nbconvert_exporter": "python",
   "pygments_lexer": "ipython3",
   "version": "3.9.10"
  }
 },
 "nbformat": 4,
 "nbformat_minor": 5
}
